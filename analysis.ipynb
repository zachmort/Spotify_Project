{
 "cells": [
  {
   "cell_type": "code",
   "execution_count": 56,
   "metadata": {},
   "outputs": [],
   "source": [
    "import spotipy\n",
    "from spotipy.oauth2 import SpotifyClientCredentials\n",
    "import api_keys\n",
    "from spotipy.oauth2 import SpotifyOAuth"
   ]
  },
  {
   "cell_type": "code",
   "execution_count": 57,
   "metadata": {},
   "outputs": [],
   "source": [
    "# https://spotipy.readthedocs.io/en/2.19.0/#redirect-uri"
   ]
  },
  {
   "cell_type": "code",
   "execution_count": 58,
   "metadata": {},
   "outputs": [],
   "source": [
    "#Authentication \n",
    "client_credential_manager = SpotifyClientCredentials(client_id = api_keys.client_id,\n",
    "                                                                                client_secret=api_keys.client_secret)\n",
    "\n",
    "# sp = spotipy.Spotify(client_credentials_manager=client_credential_manager)"
   ]
  },
  {
   "cell_type": "code",
   "execution_count": 77,
   "metadata": {},
   "outputs": [],
   "source": [
    "scope = \"user-library-read,playlist-read-private\"\n",
    "\n",
    "sp = spotipy.Spotify(auth_manager=SpotifyOAuth(scope=scope, client_id=\"adea15fa489d4c38b417367ddbdb85b2\", client_secret=\"b3a5c5daf15b4493977c17ddd0b05bf5\", redirect_uri=\"http://localhost\"))\n",
    "\n",
    "##loop through intervals of 50 to hit the api endpoint with to retrievbe songs in buckets of 50\n",
    "## generate a list of all increments of 50 up to 5000\n",
    "results_temp = sp.current_user_saved_tracks(limit=50, offset=0)"
   ]
  },
  {
   "cell_type": "code",
   "execution_count": 122,
   "metadata": {},
   "outputs": [
    {
     "name": "stdout",
     "output_type": "stream",
     "text": [
      "href\n",
      "items\n",
      "limit\n",
      "next\n",
      "offset\n",
      "previous\n",
      "total\n"
     ]
    }
   ],
   "source": [
    "for i in results_temp:\n",
    "    print(i)"
   ]
  },
  {
   "cell_type": "code",
   "execution_count": 136,
   "metadata": {},
   "outputs": [
    {
     "data": {
      "text/plain": [
       "'2023-06-02T02:50:17Z'"
      ]
     },
     "execution_count": 136,
     "metadata": {},
     "output_type": "execute_result"
    }
   ],
   "source": [
    "### Items to add:\n",
    "# added_at_to_my_playlist: results_temp[\"items\"][0][\"added_at\"]\n",
    "# artist_name: results_temp[\"items\"][0][\"track\"][\"album\"][\"artists\"][0][\"name\"]\n",
    "# unique_artist_id : results_temp[\"items\"][0][\"track\"][\"album\"][\"artists\"][0][\"uri\"]\n",
    "# release_date: results_temp[\"items\"][0][\"track\"][\"album\"][\"release_date\"]\n",
    "# song_name : results_temp[\"items\"][0][\"track\"][\"name\"]\n",
    "# song_lengh_seconds : int(results_temp[\"items\"][0][\"track\"][\"duration_ms\"])/1000\n",
    "# song_explicit : results_temp[\"items\"][0][\"track\"][\"explicit\"]\n",
    "# song_linkId : results_temp[\"items\"][0][\"track\"][\"external_urls\"][\"spotify\"]\n",
    "# song_popularity : results_temp[\"items\"][0][\"track\"][\"popularity\"]\n",
    "# album_name : results_temp[\"items\"][1][\"track\"][\"album\"][\"name\"]\n",
    "# spotify_uri_track : results_temp[\"items\"][0][\"track\"][\"album\"][\"uri\"]"
   ]
  },
  {
   "cell_type": "code",
   "execution_count": 93,
   "metadata": {},
   "outputs": [
    {
     "name": "stdout",
     "output_type": "stream",
     "text": [
      "added_at\n",
      "track\n"
     ]
    }
   ],
   "source": [
    "# results_temp[\"items\"][\"release_date\"]\n",
    "for i in results_temp[\"items\"][0]:\n",
    "    print(i)"
   ]
  },
  {
   "cell_type": "code",
   "execution_count": 74,
   "metadata": {},
   "outputs": [
    {
     "data": {
      "text/plain": [
       "'https://api.spotify.com/v1/me/tracks?offset=50&limit=50'"
      ]
     },
     "execution_count": 74,
     "metadata": {},
     "output_type": "execute_result"
    }
   ],
   "source": [
    "increment_of50_list = [i for i in range(0, 5000, 50)]\n",
    "increment_of50_list_test = [i for i in range(0, 300, 50)]\n",
    "data = {}\n",
    "\n",
    "while results[\"next\"] is not None:\n",
    "    for i in increment_of50_list:\n",
    "        results = sp.current_user_saved_tracks(limit=50, offset=i)\n",
    "        # added_at_to_my_playlist: results_temp[\"items\"][0][\"added_at\"]\n",
    "        # artist_name: results_temp[\"items\"][0][\"track\"][\"album\"][\"artists\"][0][\"name\"]\n",
    "        # unique_artist_id : results_temp[\"items\"][0][\"track\"][\"album\"][\"artists\"][0][\"uri\"]\n",
    "        # release_date: results_temp[\"items\"][0][\"track\"][\"album\"][\"release_date\"]\n",
    "        # song_name : results_temp[\"items\"][0][\"track\"][\"name\"]\n",
    "        # song_lengh_seconds : int(results_temp[\"items\"][0][\"track\"][\"duration_ms\"])/1000\n",
    "        # song_explicit : results_temp[\"items\"][0][\"track\"][\"explicit\"]\n",
    "        # song_linkId : results_temp[\"items\"][0][\"track\"][\"external_urls\"][\"spotify\"]\n",
    "        # song_popularity : results_temp[\"items\"][0][\"track\"][\"popularity\"]\n",
    "        # album_name : results_temp[\"items\"][1][\"track\"][\"album\"][\"name\"]\n",
    "        # spotify_uri_track : results_temp[\"items\"][0][\"track\"][\"album\"][\"uri\"]\n"
   ]
  },
  {
   "cell_type": "code",
   "execution_count": 67,
   "metadata": {},
   "outputs": [
    {
     "name": "stdout",
     "output_type": "stream",
     "text": [
      "0 Wiley Beckett  –  Disco Nights\n",
      "1 Ozer  –  Polo Fendi\n",
      "2 Young Franco  –  Juice\n",
      "3 Jungle  –  Romeo\n",
      "4 Kota the Friend  –  Red Lights (feat. Hello O'shay)\n",
      "5 3LAU  –  Better With You - Kastra & twoDB Remix\n",
      "6 Boombox Cartel  –  All I Want\n",
      "7 Man Cub  –  Good Enough\n",
      "8 Morgan Wallen  –  You Proof\n",
      "9 Tory Lanez  –  ‘87 Stingray\n",
      "10 Tory Lanez  –  Hurt From Mercury\n",
      "11 Richy Mitch & The Coal Miners  –  Sage\n",
      "12 Masego  –  What You Wanna Try\n",
      "13 Marshmello  –  Fell In Love\n",
      "14 Paul Russell  –  Ms. Poli Sci\n",
      "15 NLE Choppa  –  DO IT AGAIN (feat. 2Rare)\n",
      "16 Jelly Roll  –  Need A Favor\n",
      "17 Luke Combs  –  Beautiful Crazy\n",
      "18 Ghost Riders  –  Happy Now\n",
      "19 Route 33  –  Simple Things\n",
      "20 Duncan Toombs  –  A Gift\n",
      "21 Tyler, The Creator  –  DOGTOOTH\n",
      "22 Lil Tecca  –  Blessing\n",
      "23 Trippie Redd  –  1st Degree Murder\n",
      "24 Mariah the Scientist  –  Only Human\n",
      "25 Morgan Evans  –  Over For You\n",
      "26 San Holo  –  DON'T LOOK DOWN (feat. Lizzy Land)\n",
      "27 San Holo  –  We Rise\n",
      "28 The Blaze  –  BLOOM\n",
      "29 The Blaze  –  HAZE\n",
      "30 boygenius  –  Emily I'm Sorry\n",
      "31 Frost Children  –  FLATLINE\n",
      "32 Elderbrook  –  Inner Light\n",
      "33 Elderbrook  –  Back To My Bed\n",
      "34 INZO  –  Drift Like A Cloud, Flow Like Water\n",
      "35 ODESZA  –  A Moment Apart\n",
      "36 Tyler, The Creator  –  SORRY NOT SORRY\n",
      "37 tobi lou  –  Cheap Vacations (feat. Glassface)\n",
      "38 Drake  –  Time Flies\n",
      "39 Tory Lanez  –  Pluto’s Last Comet\n",
      "40 Baby Keem  –  Leverage\n",
      "41 Austin George  –  Hands On You\n",
      "42 Tyler, The Creator  –  WUSYANAME (feat. Youngboy Never Broke Again & Ty Dolla $ign)\n",
      "43 Lil Uzi Vert  –  Paradise\n",
      "44 Post Malone  –  Wrapped Around Your Finger\n",
      "45 Brent Faiyaz  –  JACKIE BROWN\n",
      "46 Tory Lanez  –  Lavender Sunflower\n",
      "47 Baby Keem  –  16\n",
      "48 Bennett Coast  –  Moonboy\n",
      "49 Drake  –  Search & Rescue\n"
     ]
    }
   ],
   "source": [
    "for idx, item in enumerate(results['items']):\n",
    "    track = item['track']\n",
    "    print(idx, track['artists'][0]['name'], \" – \", track['name'])"
   ]
  },
  {
   "cell_type": "code",
   "execution_count": null,
   "metadata": {},
   "outputs": [],
   "source": []
  }
 ],
 "metadata": {
  "kernelspec": {
   "display_name": "Python 3.11.0 64-bit",
   "language": "python",
   "name": "python3"
  },
  "language_info": {
   "codemirror_mode": {
    "name": "ipython",
    "version": 3
   },
   "file_extension": ".py",
   "mimetype": "text/x-python",
   "name": "python",
   "nbconvert_exporter": "python",
   "pygments_lexer": "ipython3",
   "version": "3.11.0"
  },
  "orig_nbformat": 4,
  "vscode": {
   "interpreter": {
    "hash": "aee8b7b246df8f9039afb4144a1f6fd8d2ca17a180786b69acc140d282b71a49"
   }
  }
 },
 "nbformat": 4,
 "nbformat_minor": 2
}
