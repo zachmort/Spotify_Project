{
 "cells": [
  {
   "cell_type": "code",
   "execution_count": 81,
   "metadata": {},
   "outputs": [],
   "source": [
    "import spotipy\n",
    "from spotipy.oauth2 import SpotifyClientCredentials\n",
    "from spotipy.oauth2 import SpotifyOAuth\n",
    "import os\n",
    "import requests\n",
    "from dotenv import load_dotenv\n",
    "import base64\n",
    "import json\n",
    "import webbrowser\n",
    "import urllib\n",
    "import tqdm\n",
    "import pandas as pd\n",
    "import numpy as np\n",
    "import matplotlib.pyplot as plt\n",
    "import seaborn as sb\n",
    "## https://developer.spotify.com/documentation/web-api/reference/get-users-saved-tracks"
   ]
  },
  {
   "cell_type": "code",
   "execution_count": 49,
   "metadata": {},
   "outputs": [],
   "source": [
    "load_dotenv()\n",
    "REDIRECT_URI = \"http://localhost\"\n",
    "CLIENT_ID = os.getenv(\"client_id\")\n",
    "CLIENT_SECRET = os.getenv(\"client_secret\")\n",
    "SCOPE = 'user-library-read'"
   ]
  },
  {
   "attachments": {},
   "cell_type": "markdown",
   "metadata": {},
   "source": [
    "## Request User Authorization"
   ]
  },
  {
   "cell_type": "code",
   "execution_count": 50,
   "metadata": {},
   "outputs": [
    {
     "data": {
      "text/plain": [
       "True"
      ]
     },
     "execution_count": 50,
     "metadata": {},
     "output_type": "execute_result"
    }
   ],
   "source": [
    "# Create the authorization URL\n",
    "params = {\n",
    "    'response_type': 'code',\n",
    "    'client_id': CLIENT_ID,\n",
    "    'scope': SCOPE,\n",
    "    'redirect_uri': REDIRECT_URI,\n",
    "}\n",
    "url = f\"https://accounts.spotify.com/authorize?{urllib.parse.urlencode(params)}\"\n",
    "\n",
    "# Open the authorization URL in the default web browser\n",
    "webbrowser.open(url)"
   ]
  },
  {
   "cell_type": "code",
   "execution_count": 51,
   "metadata": {},
   "outputs": [],
   "source": [
    "CODE = \"AQDeWZH2iptg8sDi07Ve9P-8RFGt1WKvIfcXGP0eBzcjU4zlGRu34V6FUBXeVNaIMTKGZphXctlcgUwP0qvH_fixYEChgFlKTGN6fkGNAcQ7Htk15hJWmtbW3aKrDPDQ1VjXiljTFcA9KtVS9Kkc4EaU22F-uodTkm0gD9fZ_Ae2vTbd_8Ab\""
   ]
  },
  {
   "attachments": {},
   "cell_type": "markdown",
   "metadata": {},
   "source": [
    "## Get Token Info\n",
    "- Lasts only 1 hour"
   ]
  },
  {
   "cell_type": "code",
   "execution_count": 52,
   "metadata": {},
   "outputs": [],
   "source": [
    "def get_token_info():\n",
    "    auth_header =base64.b64encode(f\"{CLIENT_ID}:{CLIENT_SECRET}\".encode('utf-8')).decode('utf-8')\n",
    "    url =\"https://accounts.spotify.com/api/token\"\n",
    "    headers={\n",
    "            \"Authorization\": f\"Basic {auth_header}\",\n",
    "            \"Content-Type\": \"application/x-www-form-urlencoded\",}\n",
    "    data={\n",
    "            \"grant_type\": \"authorization_code\",\n",
    "            \"code\" : CODE,\n",
    "            \"redirect_uri\": REDIRECT_URI}\n",
    "    result=requests.post(url, headers=headers, data=data)\n",
    "    json_results=json.loads(result.content)\n",
    "    return json_results\n",
    "\n",
    "token_details=get_token_info()"
   ]
  },
  {
   "cell_type": "code",
   "execution_count": 53,
   "metadata": {},
   "outputs": [
    {
     "data": {
      "text/plain": [
       "{'access_token': 'BQBK8RlJt9qWUl0YL29GJhQXcLSYaiz67clAgLA0J2IKiy2ylXb-eMi52Mgn0I9eeIQzjKJlT1YCwNb-KyVDxPT8ShU5s_szLNkIpjRnYM5rMS4JTYWqPBt0nfcaoKFtQesB_QpgdXXPsNNKngHPn5zipnd8jEInDR5tQzUogE1cGjlCg9kTqqRurgTtb6U',\n",
       " 'token_type': 'Bearer',\n",
       " 'expires_in': 3600,\n",
       " 'refresh_token': 'AQApIGFhTZUUgoyz9LwfJ9VCAlvKoyXXkG8PxzyT15qgAMPX2PtgMaJ22_mlyXQOf3sK7zPLlGZTxEBA5zUiQCga93sJiaUbKfPuBu_rYa4yBJh0KqVfYpiRry3ZOZlEkyQ',\n",
       " 'scope': 'user-library-read'}"
      ]
     },
     "execution_count": 53,
     "metadata": {},
     "output_type": "execute_result"
    }
   ],
   "source": [
    "token_details"
   ]
  },
  {
   "cell_type": "code",
   "execution_count": 54,
   "metadata": {},
   "outputs": [],
   "source": [
    "token = token_details[\"access_token\"]\n",
    "refresh_token = token_details[\"refresh_token\"]\n",
    "scope = token_details[\"scope\"]"
   ]
  },
  {
   "attachments": {},
   "cell_type": "markdown",
   "metadata": {},
   "source": [
    "## Get Auth Header"
   ]
  },
  {
   "cell_type": "code",
   "execution_count": 55,
   "metadata": {},
   "outputs": [],
   "source": [
    "def get_auth_header(token):\n",
    "    return f\"Bearer \" + token"
   ]
  },
  {
   "attachments": {},
   "cell_type": "markdown",
   "metadata": {},
   "source": [
    "## Post Request\n",
    "- Request using token for API endpoints"
   ]
  },
  {
   "cell_type": "code",
   "execution_count": 56,
   "metadata": {},
   "outputs": [],
   "source": [
    "SPOTIFY_GET_CURRENT_USER_SAVED_TRACKS_URL = \"https://api.spotify.com/v1/me/tracks?limit=50&offset=0\""
   ]
  },
  {
   "cell_type": "code",
   "execution_count": 57,
   "metadata": {},
   "outputs": [],
   "source": [
    "def get_current_user_tracks(url):\n",
    "    response = requests.get(url=url, headers={\"Authorization\" : f\"{get_auth_header(token)}\"})\n",
    "    resp_json = response.json()\n",
    "    return resp_json"
   ]
  },
  {
   "cell_type": "code",
   "execution_count": 59,
   "metadata": {},
   "outputs": [],
   "source": [
    "def loop_through():\n",
    "    first_spotify_url = \"https://api.spotify.com/v1/me/tracks?limit=50&offset=0\"\n",
    "    results = get_current_user_tracks(first_spotify_url)\n",
    "    full_list = []\n",
    "    current_url = results[\"href\"]\n",
    "    while results[\"next\"] is not None:\n",
    "    # for i in range(4):\n",
    "        results = get_current_user_tracks(current_url)\n",
    "        full_list.append(results)\n",
    "        spotify_url_next = results[\"next\"]\n",
    "        current_url = spotify_url_next\n",
    "    return full_list\n",
    "            "
   ]
  },
  {
   "cell_type": "code",
   "execution_count": 60,
   "metadata": {},
   "outputs": [],
   "source": [
    "saved_tracks_data = loop_through()"
   ]
  },
  {
   "attachments": {},
   "cell_type": "markdown",
   "metadata": {},
   "source": [
    "## Results"
   ]
  },
  {
   "cell_type": "code",
   "execution_count": 62,
   "metadata": {},
   "outputs": [],
   "source": [
    "saved_tracks_parsed={}\n",
    "for index_i, i in enumerate(saved_tracks_data):  \n",
    "    for index_j, j in enumerate(saved_tracks_data[index_i][\"items\"]):\n",
    "        saved_tracks_parsed[j[\"track\"][\"uri\"]] = {\n",
    "              \"added_to_playlist_time\":j[\"added_at\"]\n",
    "            , \"artist_name\":j[\"track\"][\"album\"][\"artists\"][0][\"name\"]\n",
    "            , \"unique_artist_id\": j[\"track\"][\"album\"][\"artists\"][0][\"uri\"]\n",
    "            , \"release_date\": j[\"track\"][\"album\"][\"release_date\"]\n",
    "            , \"song_name\": j[\"track\"][\"name\"]\n",
    "            , \"song_length_seconds\": str(int(j[\"track\"][\"duration_ms\"])/1000)\n",
    "            , \"song_explicit\": str(j[\"track\"][\"explicit\"])\n",
    "            , \"song_linkId\": j[\"track\"][\"external_urls\"][\"spotify\"]\n",
    "            , \"song_popularity\": str(j[\"track\"][\"popularity\"])\n",
    "            , \"album_name\": j[\"track\"][\"album\"][\"name\"]\n",
    "            , \"spotify_uri_album\": j[\"track\"][\"album\"][\"uri\"]\n",
    "            , \"spotify_track_id\": j[\"track\"][\"id\"]  \n",
    "                                            }"
   ]
  },
  {
   "cell_type": "code",
   "execution_count": 65,
   "metadata": {},
   "outputs": [
    {
     "data": {
      "text/plain": [
       "4489"
      ]
     },
     "execution_count": 65,
     "metadata": {},
     "output_type": "execute_result"
    }
   ],
   "source": [
    "len(saved_tracks_parsed)"
   ]
  },
  {
   "attachments": {},
   "cell_type": "markdown",
   "metadata": {},
   "source": [
    "## Get song genres from Get Track API Endpoint\n",
    "### Seems as if most songs do not have a genre object/attribute associated with them (shelving this for now)"
   ]
  },
  {
   "cell_type": "code",
   "execution_count": 66,
   "metadata": {},
   "outputs": [],
   "source": [
    "# for i in full_list_parsed[0:10]:\n",
    "#     print(i[0])\n",
    "\n",
    "# full_list_parsed[0][\"0.0\"][-1].split(\":\")[-1]\n",
    "# list(full_list_parsed[0].keys())"
   ]
  },
  {
   "cell_type": "code",
   "execution_count": 67,
   "metadata": {},
   "outputs": [
    {
     "data": {
      "text/plain": [
       "{'tracks': [{'album': {'album_type': 'single',\n",
       "    'artists': [{'external_urls': {'spotify': 'https://open.spotify.com/artist/757FXqX0Osk2pqtgv4E5v4'},\n",
       "      'href': 'https://api.spotify.com/v1/artists/757FXqX0Osk2pqtgv4E5v4',\n",
       "      'id': '757FXqX0Osk2pqtgv4E5v4',\n",
       "      'name': 'NURKO',\n",
       "      'type': 'artist',\n",
       "      'uri': 'spotify:artist:757FXqX0Osk2pqtgv4E5v4'},\n",
       "     {'external_urls': {'spotify': 'https://open.spotify.com/artist/0p3tzEAt0XWrBqbrwBoN1I'},\n",
       "      'href': 'https://api.spotify.com/v1/artists/0p3tzEAt0XWrBqbrwBoN1I',\n",
       "      'id': '0p3tzEAt0XWrBqbrwBoN1I',\n",
       "      'name': 'Kyle Hume',\n",
       "      'type': 'artist',\n",
       "      'uri': 'spotify:artist:0p3tzEAt0XWrBqbrwBoN1I'}],\n",
       "    'available_markets': ['AD',\n",
       "     'AE',\n",
       "     'AG',\n",
       "     'AL',\n",
       "     'AM',\n",
       "     'AO',\n",
       "     'AR',\n",
       "     'AT',\n",
       "     'AU',\n",
       "     'AZ',\n",
       "     'BA',\n",
       "     'BB',\n",
       "     'BD',\n",
       "     'BE',\n",
       "     'BF',\n",
       "     'BG',\n",
       "     'BH',\n",
       "     'BI',\n",
       "     'BJ',\n",
       "     'BN',\n",
       "     'BO',\n",
       "     'BR',\n",
       "     'BS',\n",
       "     'BT',\n",
       "     'BW',\n",
       "     'BZ',\n",
       "     'CA',\n",
       "     'CD',\n",
       "     'CG',\n",
       "     'CH',\n",
       "     'CI',\n",
       "     'CL',\n",
       "     'CM',\n",
       "     'CO',\n",
       "     'CR',\n",
       "     'CV',\n",
       "     'CW',\n",
       "     'CY',\n",
       "     'CZ',\n",
       "     'DE',\n",
       "     'DJ',\n",
       "     'DK',\n",
       "     'DM',\n",
       "     'DO',\n",
       "     'DZ',\n",
       "     'EC',\n",
       "     'EE',\n",
       "     'EG',\n",
       "     'ES',\n",
       "     'FI',\n",
       "     'FJ',\n",
       "     'FM',\n",
       "     'FR',\n",
       "     'GA',\n",
       "     'GB',\n",
       "     'GD',\n",
       "     'GE',\n",
       "     'GH',\n",
       "     'GM',\n",
       "     'GN',\n",
       "     'GQ',\n",
       "     'GR',\n",
       "     'GT',\n",
       "     'GW',\n",
       "     'GY',\n",
       "     'HK',\n",
       "     'HN',\n",
       "     'HR',\n",
       "     'HT',\n",
       "     'HU',\n",
       "     'ID',\n",
       "     'IE',\n",
       "     'IL',\n",
       "     'IN',\n",
       "     'IQ',\n",
       "     'IS',\n",
       "     'IT',\n",
       "     'JM',\n",
       "     'JO',\n",
       "     'JP',\n",
       "     'KE',\n",
       "     'KG',\n",
       "     'KH',\n",
       "     'KI',\n",
       "     'KM',\n",
       "     'KN',\n",
       "     'KR',\n",
       "     'KW',\n",
       "     'KZ',\n",
       "     'LA',\n",
       "     'LB',\n",
       "     'LC',\n",
       "     'LI',\n",
       "     'LK',\n",
       "     'LR',\n",
       "     'LS',\n",
       "     'LT',\n",
       "     'LU',\n",
       "     'LV',\n",
       "     'LY',\n",
       "     'MA',\n",
       "     'MC',\n",
       "     'MD',\n",
       "     'ME',\n",
       "     'MG',\n",
       "     'MH',\n",
       "     'MK',\n",
       "     'ML',\n",
       "     'MN',\n",
       "     'MO',\n",
       "     'MR',\n",
       "     'MT',\n",
       "     'MU',\n",
       "     'MV',\n",
       "     'MW',\n",
       "     'MX',\n",
       "     'MY',\n",
       "     'MZ',\n",
       "     'NA',\n",
       "     'NE',\n",
       "     'NG',\n",
       "     'NI',\n",
       "     'NL',\n",
       "     'NO',\n",
       "     'NP',\n",
       "     'NR',\n",
       "     'NZ',\n",
       "     'OM',\n",
       "     'PA',\n",
       "     'PE',\n",
       "     'PG',\n",
       "     'PH',\n",
       "     'PK',\n",
       "     'PL',\n",
       "     'PS',\n",
       "     'PT',\n",
       "     'PW',\n",
       "     'PY',\n",
       "     'QA',\n",
       "     'RO',\n",
       "     'RS',\n",
       "     'RW',\n",
       "     'SA',\n",
       "     'SB',\n",
       "     'SC',\n",
       "     'SE',\n",
       "     'SG',\n",
       "     'SI',\n",
       "     'SK',\n",
       "     'SL',\n",
       "     'SM',\n",
       "     'SN',\n",
       "     'SR',\n",
       "     'ST',\n",
       "     'SV',\n",
       "     'SZ',\n",
       "     'TD',\n",
       "     'TG',\n",
       "     'TH',\n",
       "     'TJ',\n",
       "     'TL',\n",
       "     'TN',\n",
       "     'TO',\n",
       "     'TR',\n",
       "     'TT',\n",
       "     'TV',\n",
       "     'TW',\n",
       "     'TZ',\n",
       "     'UA',\n",
       "     'UG',\n",
       "     'US',\n",
       "     'UY',\n",
       "     'UZ',\n",
       "     'VC',\n",
       "     'VE',\n",
       "     'VN',\n",
       "     'VU',\n",
       "     'WS',\n",
       "     'XK',\n",
       "     'ZA',\n",
       "     'ZM',\n",
       "     'ZW'],\n",
       "    'external_urls': {'spotify': 'https://open.spotify.com/album/47VbVxpe5CtPMOFCpzliMr'},\n",
       "    'href': 'https://api.spotify.com/v1/albums/47VbVxpe5CtPMOFCpzliMr',\n",
       "    'id': '47VbVxpe5CtPMOFCpzliMr',\n",
       "    'images': [{'height': 640,\n",
       "      'url': 'https://i.scdn.co/image/ab67616d0000b273fea598091cdef70b34d47a81',\n",
       "      'width': 640},\n",
       "     {'height': 300,\n",
       "      'url': 'https://i.scdn.co/image/ab67616d00001e02fea598091cdef70b34d47a81',\n",
       "      'width': 300},\n",
       "     {'height': 64,\n",
       "      'url': 'https://i.scdn.co/image/ab67616d00004851fea598091cdef70b34d47a81',\n",
       "      'width': 64}],\n",
       "    'name': 'Save Me (From Myself) (feat. Kyle Hume)',\n",
       "    'release_date': '2023-04-07',\n",
       "    'release_date_precision': 'day',\n",
       "    'total_tracks': 3,\n",
       "    'type': 'album',\n",
       "    'uri': 'spotify:album:47VbVxpe5CtPMOFCpzliMr'},\n",
       "   'artists': [{'external_urls': {'spotify': 'https://open.spotify.com/artist/757FXqX0Osk2pqtgv4E5v4'},\n",
       "     'href': 'https://api.spotify.com/v1/artists/757FXqX0Osk2pqtgv4E5v4',\n",
       "     'id': '757FXqX0Osk2pqtgv4E5v4',\n",
       "     'name': 'NURKO',\n",
       "     'type': 'artist',\n",
       "     'uri': 'spotify:artist:757FXqX0Osk2pqtgv4E5v4'},\n",
       "    {'external_urls': {'spotify': 'https://open.spotify.com/artist/0p3tzEAt0XWrBqbrwBoN1I'},\n",
       "     'href': 'https://api.spotify.com/v1/artists/0p3tzEAt0XWrBqbrwBoN1I',\n",
       "     'id': '0p3tzEAt0XWrBqbrwBoN1I',\n",
       "     'name': 'Kyle Hume',\n",
       "     'type': 'artist',\n",
       "     'uri': 'spotify:artist:0p3tzEAt0XWrBqbrwBoN1I'}],\n",
       "   'available_markets': ['AR',\n",
       "    'AU',\n",
       "    'AT',\n",
       "    'BE',\n",
       "    'BO',\n",
       "    'BR',\n",
       "    'BG',\n",
       "    'CA',\n",
       "    'CL',\n",
       "    'CO',\n",
       "    'CR',\n",
       "    'CY',\n",
       "    'CZ',\n",
       "    'DK',\n",
       "    'DO',\n",
       "    'DE',\n",
       "    'EC',\n",
       "    'EE',\n",
       "    'SV',\n",
       "    'FI',\n",
       "    'FR',\n",
       "    'GR',\n",
       "    'GT',\n",
       "    'HN',\n",
       "    'HK',\n",
       "    'HU',\n",
       "    'IS',\n",
       "    'IE',\n",
       "    'IT',\n",
       "    'LV',\n",
       "    'LT',\n",
       "    'LU',\n",
       "    'MY',\n",
       "    'MT',\n",
       "    'MX',\n",
       "    'NL',\n",
       "    'NZ',\n",
       "    'NI',\n",
       "    'NO',\n",
       "    'PA',\n",
       "    'PY',\n",
       "    'PE',\n",
       "    'PH',\n",
       "    'PL',\n",
       "    'PT',\n",
       "    'SG',\n",
       "    'SK',\n",
       "    'ES',\n",
       "    'SE',\n",
       "    'CH',\n",
       "    'TW',\n",
       "    'TR',\n",
       "    'UY',\n",
       "    'US',\n",
       "    'GB',\n",
       "    'AD',\n",
       "    'LI',\n",
       "    'MC',\n",
       "    'ID',\n",
       "    'JP',\n",
       "    'TH',\n",
       "    'VN',\n",
       "    'RO',\n",
       "    'IL',\n",
       "    'ZA',\n",
       "    'SA',\n",
       "    'AE',\n",
       "    'BH',\n",
       "    'QA',\n",
       "    'OM',\n",
       "    'KW',\n",
       "    'EG',\n",
       "    'MA',\n",
       "    'DZ',\n",
       "    'TN',\n",
       "    'LB',\n",
       "    'JO',\n",
       "    'PS',\n",
       "    'IN',\n",
       "    'KZ',\n",
       "    'MD',\n",
       "    'UA',\n",
       "    'AL',\n",
       "    'BA',\n",
       "    'HR',\n",
       "    'ME',\n",
       "    'MK',\n",
       "    'RS',\n",
       "    'SI',\n",
       "    'KR',\n",
       "    'BD',\n",
       "    'PK',\n",
       "    'LK',\n",
       "    'GH',\n",
       "    'KE',\n",
       "    'NG',\n",
       "    'TZ',\n",
       "    'UG',\n",
       "    'AG',\n",
       "    'AM',\n",
       "    'BS',\n",
       "    'BB',\n",
       "    'BZ',\n",
       "    'BT',\n",
       "    'BW',\n",
       "    'BF',\n",
       "    'CV',\n",
       "    'CW',\n",
       "    'DM',\n",
       "    'FJ',\n",
       "    'GM',\n",
       "    'GE',\n",
       "    'GD',\n",
       "    'GW',\n",
       "    'GY',\n",
       "    'HT',\n",
       "    'JM',\n",
       "    'KI',\n",
       "    'LS',\n",
       "    'LR',\n",
       "    'MW',\n",
       "    'MV',\n",
       "    'ML',\n",
       "    'MH',\n",
       "    'FM',\n",
       "    'NA',\n",
       "    'NR',\n",
       "    'NE',\n",
       "    'PW',\n",
       "    'PG',\n",
       "    'WS',\n",
       "    'SM',\n",
       "    'ST',\n",
       "    'SN',\n",
       "    'SC',\n",
       "    'SL',\n",
       "    'SB',\n",
       "    'KN',\n",
       "    'LC',\n",
       "    'VC',\n",
       "    'SR',\n",
       "    'TL',\n",
       "    'TO',\n",
       "    'TT',\n",
       "    'TV',\n",
       "    'VU',\n",
       "    'AZ',\n",
       "    'BN',\n",
       "    'BI',\n",
       "    'KH',\n",
       "    'CM',\n",
       "    'TD',\n",
       "    'KM',\n",
       "    'GQ',\n",
       "    'SZ',\n",
       "    'GA',\n",
       "    'GN',\n",
       "    'KG',\n",
       "    'LA',\n",
       "    'MO',\n",
       "    'MR',\n",
       "    'MN',\n",
       "    'NP',\n",
       "    'RW',\n",
       "    'TG',\n",
       "    'UZ',\n",
       "    'ZW',\n",
       "    'BJ',\n",
       "    'MG',\n",
       "    'MU',\n",
       "    'MZ',\n",
       "    'AO',\n",
       "    'CI',\n",
       "    'DJ',\n",
       "    'ZM',\n",
       "    'CD',\n",
       "    'CG',\n",
       "    'IQ',\n",
       "    'LY',\n",
       "    'TJ',\n",
       "    'VE',\n",
       "    'ET',\n",
       "    'XK'],\n",
       "   'disc_number': 1,\n",
       "   'duration_ms': 218666,\n",
       "   'explicit': False,\n",
       "   'external_ids': {'isrc': 'USUG12301812'},\n",
       "   'external_urls': {'spotify': 'https://open.spotify.com/track/6POZ7ocsOQQvJrfArz6KOD'},\n",
       "   'href': 'https://api.spotify.com/v1/tracks/6POZ7ocsOQQvJrfArz6KOD',\n",
       "   'id': '6POZ7ocsOQQvJrfArz6KOD',\n",
       "   'is_local': False,\n",
       "   'name': 'Save Me (From Myself) (feat. Kyle Hume)',\n",
       "   'popularity': 61,\n",
       "   'preview_url': 'https://p.scdn.co/mp3-preview/df8ab2070dbd9d4780e5f5ce133bb294ece1dc39?cid=1a03d057b2754e71a51fb53f7ea86a89',\n",
       "   'track_number': 1,\n",
       "   'type': 'track',\n",
       "   'uri': 'spotify:track:6POZ7ocsOQQvJrfArz6KOD'}]}"
      ]
     },
     "execution_count": 67,
     "metadata": {},
     "output_type": "execute_result"
    }
   ],
   "source": [
    "def get_track_genres(url):\n",
    "    response = requests.get(url=url, headers={\"Authorization\" : f\"{get_auth_header(token)}\"})\n",
    "    resp_json = response.json()\n",
    "    return resp_json\n",
    "\n",
    "\n",
    "get_track_genres(\"https://api.spotify.com/v1/tracks?ids=6POZ7ocsOQQvJrfArz6KOD\")\n",
    "# for track_id in full_list_parsed:\n",
    "#     get_track_genre_url= f\"https://api.spotify.com/v1/tracks/{track_id}\"\n",
    "#     get_track_genres(get_track_genre_url)"
   ]
  },
  {
   "attachments": {},
   "cell_type": "markdown",
   "metadata": {},
   "source": [
    "## Call Track Auto Features API endpoint\n",
    "- https://developer.spotify.com/documentation/web-api/reference/get-several-audio-features"
   ]
  },
  {
   "cell_type": "code",
   "execution_count": 68,
   "metadata": {},
   "outputs": [],
   "source": [
    "def get_tracks_audio_analysis(url):\n",
    "    response = requests.get(url=url, headers={\"Authorization\" : f\"{get_auth_header(token)}\"})\n",
    "    resp_json = response.json()\n",
    "    return resp_json"
   ]
  },
  {
   "attachments": {},
   "cell_type": "markdown",
   "metadata": {},
   "source": [
    "### Creating string for audio track inputs\n",
    "- Spotify limits the inputs to 100 track ids at a time"
   ]
  },
  {
   "cell_type": "code",
   "execution_count": 69,
   "metadata": {},
   "outputs": [],
   "source": [
    "listofids=[]\n",
    "for index, i in enumerate(list(saved_tracks_parsed.values())):\n",
    "    listofids.append(i[\"spotify_track_id\"])"
   ]
  },
  {
   "cell_type": "code",
   "execution_count": 71,
   "metadata": {},
   "outputs": [
    {
     "data": {
      "text/plain": [
       "44.89"
      ]
     },
     "execution_count": 71,
     "metadata": {},
     "output_type": "execute_result"
    }
   ],
   "source": [
    "len(listofids)/100"
   ]
  },
  {
   "attachments": {},
   "cell_type": "markdown",
   "metadata": {},
   "source": [
    "## Breaking up Id Lists\n",
    "- Track Audio Analysis only takes in 100 ids at a time"
   ]
  },
  {
   "cell_type": "code",
   "execution_count": 72,
   "metadata": {},
   "outputs": [],
   "source": [
    "def list_chunks(l,n):\n",
    "    for i in range(0,len(l), n):\n",
    "        yield l[i:i + n]\n",
    "\n",
    "n = 100\n",
    "\n",
    "chunksoftrackids=list(list_chunks(listofids,n))"
   ]
  },
  {
   "cell_type": "code",
   "execution_count": 74,
   "metadata": {},
   "outputs": [
    {
     "data": {
      "text/plain": [
       "45"
      ]
     },
     "execution_count": 74,
     "metadata": {},
     "output_type": "execute_result"
    }
   ],
   "source": [
    "len(chunksoftrackids)"
   ]
  },
  {
   "cell_type": "code",
   "execution_count": 75,
   "metadata": {},
   "outputs": [],
   "source": [
    "string_urls=[]\n",
    "for index,chunk in enumerate(chunksoftrackids):\n",
    "    string_urls.append(','.join(chunk))"
   ]
  },
  {
   "attachments": {},
   "cell_type": "markdown",
   "metadata": {},
   "source": [
    "## Getting Track Audio Features"
   ]
  },
  {
   "cell_type": "code",
   "execution_count": 76,
   "metadata": {},
   "outputs": [],
   "source": [
    "track_audio_features={}\n",
    "for index,i in enumerate(string_urls):\n",
    "    audiofeatures= get_tracks_audio_analysis(f'https://api.spotify.com/v1/audio-features?ids={string_urls[index]}')\n",
    "    for j in audiofeatures[\"audio_features\"]:\n",
    "        track_audio_features[j['uri']] ={\n",
    "                \"danceability\":j[\"danceability\"]\n",
    "                , \"energy\":j[\"energy\"]\n",
    "                , \"key\":j[\"key\"]\n",
    "                , \"loudness\":j[\"loudness\"]\n",
    "                , \"mode\":j[\"mode\"]\n",
    "                , \"speechiness\":j[\"speechiness\"]\n",
    "                , \"acousticness\":j[\"acousticness\"]\n",
    "                , \"instrumentalness\":j[\"instrumentalness\"]\n",
    "                , \"liveness\":j[\"liveness\"]\n",
    "                , \"valence\":j[\"valence\"]\n",
    "                , \"time_signature\":j[\"time_signature\"]\n",
    "                , \"tempo\":j[\"tempo\"]\n",
    "                                        }"
   ]
  },
  {
   "cell_type": "code",
   "execution_count": 77,
   "metadata": {},
   "outputs": [
    {
     "name": "stdout",
     "output_type": "stream",
     "text": [
      "{'danceability': 0.494, 'energy': 0.917, 'key': 7, 'loudness': -3.302, 'mode': 0, 'speechiness': 0.144, 'acousticness': 0.0381, 'instrumentalness': 0, 'liveness': 0.0943, 'valence': 0.178, 'time_signature': 4, 'tempo': 145.847}\n",
      "{'added_to_playlist_time': '2023-06-09T15:26:19Z', 'artist_name': 'RL Grime', 'unique_artist_id': 'spotify:artist:5eIbEEQnDM8yuDVB0bimSP', 'release_date': '2023-06-09', 'song_name': 'Pour Your Heart Out (feat. 070 Shake)', 'song_length_seconds': '223.561', 'song_explicit': 'False', 'song_linkId': 'https://open.spotify.com/track/4p16E9c9Ig6xFMGS3Y82mT', 'song_popularity': '67', 'album_name': 'Pour Your Heart Out (feat. 070 Shake)', 'spotify_uri_album': 'spotify:album:3IqciDNeCpyycdfxs6AA6T', 'spotify_track_id': '4p16E9c9Ig6xFMGS3Y82mT'}\n"
     ]
    }
   ],
   "source": [
    "print(track_audio_features['spotify:track:4p16E9c9Ig6xFMGS3Y82mT'])\n",
    "print(saved_tracks_parsed['spotify:track:4p16E9c9Ig6xFMGS3Y82mT'])"
   ]
  },
  {
   "cell_type": "code",
   "execution_count": 78,
   "metadata": {},
   "outputs": [],
   "source": [
    "tracks_fulldetails={}\n",
    "for k in saved_tracks_parsed:\n",
    "    tracks_fulldetails[k]=[saved_tracks_parsed[k], track_audio_features[k]]"
   ]
  },
  {
   "cell_type": "code",
   "execution_count": 80,
   "metadata": {},
   "outputs": [
    {
     "data": {
      "text/plain": [
       "4489"
      ]
     },
     "execution_count": 80,
     "metadata": {},
     "output_type": "execute_result"
    }
   ],
   "source": [
    "len(tracks_fulldetails)"
   ]
  },
  {
   "cell_type": "code",
   "execution_count": 84,
   "metadata": {},
   "outputs": [
    {
     "data": {
      "text/plain": [
       "{'danceability': 0.494,\n",
       " 'energy': 0.917,\n",
       " 'key': 7,\n",
       " 'loudness': -3.302,\n",
       " 'mode': 0,\n",
       " 'speechiness': 0.144,\n",
       " 'acousticness': 0.0381,\n",
       " 'instrumentalness': 0,\n",
       " 'liveness': 0.0943,\n",
       " 'valence': 0.178,\n",
       " 'time_signature': 4,\n",
       " 'tempo': 145.847}"
      ]
     },
     "execution_count": 84,
     "metadata": {},
     "output_type": "execute_result"
    }
   ],
   "source": [
    "tracks_fulldetails['spotify:track:4p16E9c9Ig6xFMGS3Y82mT'][1]"
   ]
  },
  {
   "cell_type": "code",
   "execution_count": 90,
   "metadata": {},
   "outputs": [
    {
     "data": {
      "text/html": [
       "<div>\n",
       "<style scoped>\n",
       "    .dataframe tbody tr th:only-of-type {\n",
       "        vertical-align: middle;\n",
       "    }\n",
       "\n",
       "    .dataframe tbody tr th {\n",
       "        vertical-align: top;\n",
       "    }\n",
       "\n",
       "    .dataframe thead th {\n",
       "        text-align: right;\n",
       "    }\n",
       "</style>\n",
       "<table border=\"1\" class=\"dataframe\">\n",
       "  <thead>\n",
       "    <tr style=\"text-align: right;\">\n",
       "      <th></th>\n",
       "      <th>added_to_playlist_time</th>\n",
       "      <th>artist_name</th>\n",
       "      <th>unique_artist_id</th>\n",
       "      <th>release_date</th>\n",
       "      <th>song_name</th>\n",
       "      <th>song_length_seconds</th>\n",
       "      <th>song_explicit</th>\n",
       "      <th>song_linkId</th>\n",
       "      <th>song_popularity</th>\n",
       "      <th>album_name</th>\n",
       "      <th>...</th>\n",
       "      <th>key</th>\n",
       "      <th>loudness</th>\n",
       "      <th>mode</th>\n",
       "      <th>speechiness</th>\n",
       "      <th>acousticness</th>\n",
       "      <th>instrumentalness</th>\n",
       "      <th>liveness</th>\n",
       "      <th>valence</th>\n",
       "      <th>time_signature</th>\n",
       "      <th>tempo</th>\n",
       "    </tr>\n",
       "  </thead>\n",
       "  <tbody>\n",
       "    <tr>\n",
       "      <th>0</th>\n",
       "      <td>2023-06-09T15:26:19Z</td>\n",
       "      <td>RL Grime</td>\n",
       "      <td>spotify:artist:5eIbEEQnDM8yuDVB0bimSP</td>\n",
       "      <td>2023-06-09</td>\n",
       "      <td>Pour Your Heart Out (feat. 070 Shake)</td>\n",
       "      <td>223.561</td>\n",
       "      <td>False</td>\n",
       "      <td>https://open.spotify.com/track/4p16E9c9Ig6xFMG...</td>\n",
       "      <td>67</td>\n",
       "      <td>Pour Your Heart Out (feat. 070 Shake)</td>\n",
       "      <td>...</td>\n",
       "      <td>NaN</td>\n",
       "      <td>NaN</td>\n",
       "      <td>NaN</td>\n",
       "      <td>NaN</td>\n",
       "      <td>NaN</td>\n",
       "      <td>NaN</td>\n",
       "      <td>NaN</td>\n",
       "      <td>NaN</td>\n",
       "      <td>NaN</td>\n",
       "      <td>NaN</td>\n",
       "    </tr>\n",
       "    <tr>\n",
       "      <th>1</th>\n",
       "      <td>NaN</td>\n",
       "      <td>NaN</td>\n",
       "      <td>NaN</td>\n",
       "      <td>NaN</td>\n",
       "      <td>NaN</td>\n",
       "      <td>NaN</td>\n",
       "      <td>NaN</td>\n",
       "      <td>NaN</td>\n",
       "      <td>NaN</td>\n",
       "      <td>NaN</td>\n",
       "      <td>...</td>\n",
       "      <td>7.0</td>\n",
       "      <td>-3.302</td>\n",
       "      <td>0.0</td>\n",
       "      <td>0.144</td>\n",
       "      <td>0.0381</td>\n",
       "      <td>0.0</td>\n",
       "      <td>0.0943</td>\n",
       "      <td>0.178</td>\n",
       "      <td>4.0</td>\n",
       "      <td>145.847</td>\n",
       "    </tr>\n",
       "  </tbody>\n",
       "</table>\n",
       "<p>2 rows × 24 columns</p>\n",
       "</div>"
      ],
      "text/plain": [
       "  added_to_playlist_time artist_name                       unique_artist_id  \\\n",
       "0   2023-06-09T15:26:19Z    RL Grime  spotify:artist:5eIbEEQnDM8yuDVB0bimSP   \n",
       "1                    NaN         NaN                                    NaN   \n",
       "\n",
       "  release_date                              song_name song_length_seconds  \\\n",
       "0   2023-06-09  Pour Your Heart Out (feat. 070 Shake)             223.561   \n",
       "1          NaN                                    NaN                 NaN   \n",
       "\n",
       "  song_explicit                                        song_linkId  \\\n",
       "0         False  https://open.spotify.com/track/4p16E9c9Ig6xFMG...   \n",
       "1           NaN                                                NaN   \n",
       "\n",
       "  song_popularity                             album_name  ...  key loudness  \\\n",
       "0              67  Pour Your Heart Out (feat. 070 Shake)  ...  NaN      NaN   \n",
       "1             NaN                                    NaN  ...  7.0   -3.302   \n",
       "\n",
       "   mode  speechiness  acousticness  instrumentalness  liveness  valence  \\\n",
       "0   NaN          NaN           NaN               NaN       NaN      NaN   \n",
       "1   0.0        0.144        0.0381               0.0    0.0943    0.178   \n",
       "\n",
       "   time_signature    tempo  \n",
       "0             NaN      NaN  \n",
       "1             4.0  145.847  \n",
       "\n",
       "[2 rows x 24 columns]"
      ]
     },
     "execution_count": 90,
     "metadata": {},
     "output_type": "execute_result"
    }
   ],
   "source": [
    "pd.DataFrame.from_records(list(tracks_fulldetails.values())[0])"
   ]
  },
  {
   "cell_type": "code",
   "execution_count": null,
   "metadata": {},
   "outputs": [],
   "source": []
  }
 ],
 "metadata": {
  "kernelspec": {
   "display_name": "Python 3.11.0 64-bit",
   "language": "python",
   "name": "python3"
  },
  "language_info": {
   "codemirror_mode": {
    "name": "ipython",
    "version": 3
   },
   "file_extension": ".py",
   "mimetype": "text/x-python",
   "name": "python",
   "nbconvert_exporter": "python",
   "pygments_lexer": "ipython3",
   "version": "3.11.0"
  },
  "orig_nbformat": 4,
  "vscode": {
   "interpreter": {
    "hash": "aee8b7b246df8f9039afb4144a1f6fd8d2ca17a180786b69acc140d282b71a49"
   }
  }
 },
 "nbformat": 4,
 "nbformat_minor": 2
}
