{
 "cells": [
  {
   "cell_type": "code",
   "execution_count": 1,
   "metadata": {},
   "outputs": [],
   "source": [
    "import os\n",
    "import requests\n",
    "from dotenv import load_dotenv\n",
    "import base64\n",
    "import json\n",
    "import webbrowser\n",
    "import urllib\n",
    "import tqdm\n",
    "import pandas as pd\n",
    "from datetime import datetime, date"
   ]
  },
  {
   "cell_type": "code",
   "execution_count": 15,
   "metadata": {},
   "outputs": [],
   "source": [
    "load_dotenv()\n",
    "REDIRECT_URI = \"http://localhost:8501/\"\n",
    "CLIENT_ID = os.getenv(\"client_id\")\n",
    "CLIENT_SECRET = os.getenv(\"client_secret\")\n",
    "SCOPE = \" \".join(['user-library-read', 'user-top-read'])\n",
    "SCOPE_USER_TOP_READ = 'user-top-read'"
   ]
  },
  {
   "attachments": {},
   "cell_type": "markdown",
   "metadata": {},
   "source": [
    "## Request User Authorization"
   ]
  },
  {
   "cell_type": "code",
   "execution_count": 16,
   "metadata": {},
   "outputs": [
    {
     "data": {
      "text/plain": [
       "True"
      ]
     },
     "execution_count": 16,
     "metadata": {},
     "output_type": "execute_result"
    }
   ],
   "source": [
    "# Create the authorization URL\n",
    "params = {\n",
    "    'response_type': 'code',\n",
    "    'client_id': CLIENT_ID,\n",
    "    'scope': SCOPE,\n",
    "    'redirect_uri': REDIRECT_URI,\n",
    "}\n",
    "url = f\"https://accounts.spotify.com/authorize?{urllib.parse.urlencode(params)}\"\n",
    "\n",
    "# Open the authorization URL in the default web browser\n",
    "webbrowser.open(url)"
   ]
  },
  {
   "cell_type": "code",
   "execution_count": 17,
   "metadata": {},
   "outputs": [],
   "source": [
    "CODE = \"AQBQ2jj2aWuYVCN0wc3RWEMLdnOdFtcLmZwqqm4kp4txfUO3hXbz8Sidh42QihxEe6VDPqIrcEoIPfaif9VMD53WvdkehIwihiwc-2gj98XEPU5hdQI-HNZq0a-GVrv4fGKdTgYJaYQ-mi0e1XN4usYliaNTKSTDyH6uKQNRJr_tIA26KWShWdq21tOMyvrZm_YXpG1dTuQtp-6E\""
   ]
  },
  {
   "attachments": {},
   "cell_type": "markdown",
   "metadata": {},
   "source": [
    "## Get Token Info\n",
    "- Lasts only 1 hour"
   ]
  },
  {
   "cell_type": "code",
   "execution_count": 18,
   "metadata": {},
   "outputs": [],
   "source": [
    "def get_token_info():\n",
    "    auth_header =base64.b64encode(f\"{CLIENT_ID}:{CLIENT_SECRET}\".encode('utf-8')).decode('utf-8')\n",
    "    url =\"https://accounts.spotify.com/api/token\"\n",
    "    headers={\n",
    "            \"Authorization\": f\"Basic {auth_header}\",\n",
    "            \"Content-Type\": \"application/x-www-form-urlencoded\",}\n",
    "    data={\n",
    "            \"grant_type\": \"authorization_code\",\n",
    "            \"code\" : CODE,\n",
    "            \"redirect_uri\": REDIRECT_URI}\n",
    "    result=requests.post(url, headers=headers, data=data)\n",
    "    json_results=json.loads(result.content)\n",
    "    return json_results\n",
    "\n",
    "token_details=get_token_info()"
   ]
  },
  {
   "cell_type": "code",
   "execution_count": 19,
   "metadata": {},
   "outputs": [
    {
     "data": {
      "text/plain": [
       "{'access_token': 'BQAsZkmgYlCrBICO60ShpwLeaUrl25OuOYAlJeg-zuyRu1jkTYHRjytp_0vYoGXUIPQWBiWspldbRFobqFqAs0X7BU_HBrD7C4C3xbnvwPfZcMaMhx78l-y5_eKa7Hw_UQU22Uq2rM1VO3Mn6eg07Bzj_Db_JvlD7ikIlXVgX56pGFx4UbZgVVpXAgI7Hp47zX5N',\n",
       " 'token_type': 'Bearer',\n",
       " 'expires_in': 3600,\n",
       " 'refresh_token': 'AQBlXInLse2SUsoBs4Hrj_EXv2LvJqHAFbmJ-BNJeksywxTEkt_2BK4llX4ZsJCPEiOSJUgKOMnIw6K1Z8BUUt55uO4ZOrjawZNzOEKmkJSG18GFkwSWcV69u4dyd2WT2-w',\n",
       " 'scope': 'user-library-read user-top-read'}"
      ]
     },
     "execution_count": 19,
     "metadata": {},
     "output_type": "execute_result"
    }
   ],
   "source": [
    "token_details"
   ]
  },
  {
   "cell_type": "code",
   "execution_count": 21,
   "metadata": {},
   "outputs": [],
   "source": [
    "token = token_details[\"access_token\"]\n",
    "refresh_token = token_details[\"refresh_token\"]\n",
    "scope = token_details[\"scope\"]"
   ]
  },
  {
   "attachments": {},
   "cell_type": "markdown",
   "metadata": {},
   "source": [
    "## Get Auth Header"
   ]
  },
  {
   "cell_type": "code",
   "execution_count": 22,
   "metadata": {},
   "outputs": [],
   "source": [
    "def get_auth_header(token):\n",
    "    return f\"Bearer \" + token"
   ]
  },
  {
   "attachments": {},
   "cell_type": "markdown",
   "metadata": {},
   "source": [
    "## Post Request\n",
    "- Request using token for API endpoints"
   ]
  },
  {
   "cell_type": "code",
   "execution_count": 11,
   "metadata": {},
   "outputs": [],
   "source": [
    "SPOTIFY_GET_CURRENT_USER_SAVED_TRACKS_URL = \"https://api.spotify.com/v1/me/tracks?limit=50&offset=0\""
   ]
  },
  {
   "cell_type": "code",
   "execution_count": 12,
   "metadata": {},
   "outputs": [],
   "source": [
    "def get_current_user_tracks(url):\n",
    "    response = requests.get(url=url, headers={\"Authorization\" : f\"{get_auth_header(token)}\"})\n",
    "    resp_json = response.json()\n",
    "    return resp_json"
   ]
  },
  {
   "cell_type": "code",
   "execution_count": 13,
   "metadata": {},
   "outputs": [],
   "source": [
    "def loop_through():\n",
    "    first_spotify_url = \"https://api.spotify.com/v1/me/tracks?limit=50&offset=0\"\n",
    "    results = get_current_user_tracks(first_spotify_url)\n",
    "    full_list = []\n",
    "    current_url = results[\"href\"]\n",
    "    while results[\"next\"] is not None:\n",
    "        results = get_current_user_tracks(current_url)\n",
    "        full_list.append(results)\n",
    "        spotify_url_next = results[\"next\"]\n",
    "        current_url = spotify_url_next\n",
    "    return full_list\n",
    "            "
   ]
  },
  {
   "cell_type": "code",
   "execution_count": 14,
   "metadata": {},
   "outputs": [],
   "source": [
    "saved_tracks_data = loop_through()"
   ]
  },
  {
   "attachments": {},
   "cell_type": "markdown",
   "metadata": {},
   "source": [
    "## Results"
   ]
  },
  {
   "cell_type": "code",
   "execution_count": 61,
   "metadata": {},
   "outputs": [],
   "source": [
    "saved_tracks_parsed={}\n",
    "for index_i, i in enumerate(saved_tracks_data):  \n",
    "    for index_j, j in enumerate(saved_tracks_data[index_i][\"items\"]):\n",
    "        saved_tracks_parsed[j[\"track\"][\"uri\"]] = {\n",
    "              \"added_to_playlist_time\":j[\"added_at\"]\n",
    "            , \"artist_name\":j[\"track\"][\"album\"][\"artists\"][0][\"name\"]\n",
    "            , \"artist_image\":j['track']['album']['images'][1]['url']\n",
    "            , \"unique_artist_id\": j[\"track\"][\"album\"][\"artists\"][0][\"uri\"]\n",
    "            , \"release_date\": j[\"track\"][\"album\"][\"release_date\"]\n",
    "            , \"song_name\": j[\"track\"][\"name\"]\n",
    "            , \"song_length_seconds\": int(j[\"track\"][\"duration_ms\"])/1000\n",
    "            , \"song_explicit\": str(j[\"track\"][\"explicit\"])\n",
    "            , \"song_linkId\": j[\"track\"][\"external_urls\"][\"spotify\"]\n",
    "            , \"song_popularity\": int(j[\"track\"][\"popularity\"])\n",
    "            , \"album_name\": j[\"track\"][\"album\"][\"name\"]\n",
    "            , \"spotify_uri_album\": j[\"track\"][\"album\"][\"uri\"]\n",
    "            , \"spotify_track_id\": j[\"track\"][\"id\"]  \n",
    "                                            }"
   ]
  },
  {
   "cell_type": "code",
   "execution_count": 94,
   "metadata": {},
   "outputs": [
    {
     "ename": "KeyError",
     "evalue": "'items'",
     "output_type": "error",
     "traceback": [
      "\u001b[0;31m---------------------------------------------------------------------------\u001b[0m",
      "\u001b[0;31mKeyError\u001b[0m                                  Traceback (most recent call last)",
      "Cell \u001b[0;32mIn[94], line 1\u001b[0m\n\u001b[0;32m----> 1\u001b[0m saved_tracks_parsed[\u001b[39m\"\u001b[39;49m\u001b[39mitems\u001b[39;49m\u001b[39m\"\u001b[39;49m][\u001b[39m0\u001b[39m]\n",
      "\u001b[0;31mKeyError\u001b[0m: 'items'"
     ]
    }
   ],
   "source": [
    "saved_tracks_parsed[\"items\"][0]"
   ]
  },
  {
   "attachments": {},
   "cell_type": "markdown",
   "metadata": {},
   "source": [
    "## Get song genres from Get Track API Endpoint\n",
    "### Seems as if most songs do not have a genre object/attribute associated with them (shelving this for now)"
   ]
  },
  {
   "cell_type": "code",
   "execution_count": 15,
   "metadata": {},
   "outputs": [],
   "source": [
    "# for i in full_list_parsed[0:10]:\n",
    "#     print(i[0])\n",
    "\n",
    "# full_list_parsed[0][\"0.0\"][-1].split(\":\")[-1]\n",
    "# list(full_list_parsed[0].keys())"
   ]
  },
  {
   "cell_type": "code",
   "execution_count": 16,
   "metadata": {},
   "outputs": [
    {
     "data": {
      "text/plain": [
       "{'tracks': [{'album': {'album_type': 'single',\n",
       "    'artists': [{'external_urls': {'spotify': 'https://open.spotify.com/artist/757FXqX0Osk2pqtgv4E5v4'},\n",
       "      'href': 'https://api.spotify.com/v1/artists/757FXqX0Osk2pqtgv4E5v4',\n",
       "      'id': '757FXqX0Osk2pqtgv4E5v4',\n",
       "      'name': 'NURKO',\n",
       "      'type': 'artist',\n",
       "      'uri': 'spotify:artist:757FXqX0Osk2pqtgv4E5v4'},\n",
       "     {'external_urls': {'spotify': 'https://open.spotify.com/artist/0p3tzEAt0XWrBqbrwBoN1I'},\n",
       "      'href': 'https://api.spotify.com/v1/artists/0p3tzEAt0XWrBqbrwBoN1I',\n",
       "      'id': '0p3tzEAt0XWrBqbrwBoN1I',\n",
       "      'name': 'Kyle Hume',\n",
       "      'type': 'artist',\n",
       "      'uri': 'spotify:artist:0p3tzEAt0XWrBqbrwBoN1I'}],\n",
       "    'available_markets': ['AR',\n",
       "     'AU',\n",
       "     'AT',\n",
       "     'BE',\n",
       "     'BO',\n",
       "     'BR',\n",
       "     'BG',\n",
       "     'CA',\n",
       "     'CL',\n",
       "     'CO',\n",
       "     'CR',\n",
       "     'CY',\n",
       "     'CZ',\n",
       "     'DK',\n",
       "     'DO',\n",
       "     'DE',\n",
       "     'EC',\n",
       "     'EE',\n",
       "     'SV',\n",
       "     'FI',\n",
       "     'FR',\n",
       "     'GR',\n",
       "     'GT',\n",
       "     'HN',\n",
       "     'HK',\n",
       "     'HU',\n",
       "     'IS',\n",
       "     'IE',\n",
       "     'IT',\n",
       "     'LV',\n",
       "     'LT',\n",
       "     'LU',\n",
       "     'MY',\n",
       "     'MT',\n",
       "     'MX',\n",
       "     'NL',\n",
       "     'NZ',\n",
       "     'NI',\n",
       "     'NO',\n",
       "     'PA',\n",
       "     'PY',\n",
       "     'PE',\n",
       "     'PH',\n",
       "     'PL',\n",
       "     'PT',\n",
       "     'SG',\n",
       "     'SK',\n",
       "     'ES',\n",
       "     'SE',\n",
       "     'CH',\n",
       "     'TW',\n",
       "     'TR',\n",
       "     'UY',\n",
       "     'US',\n",
       "     'GB',\n",
       "     'AD',\n",
       "     'LI',\n",
       "     'MC',\n",
       "     'ID',\n",
       "     'JP',\n",
       "     'TH',\n",
       "     'VN',\n",
       "     'RO',\n",
       "     'IL',\n",
       "     'ZA',\n",
       "     'SA',\n",
       "     'AE',\n",
       "     'BH',\n",
       "     'QA',\n",
       "     'OM',\n",
       "     'KW',\n",
       "     'EG',\n",
       "     'MA',\n",
       "     'DZ',\n",
       "     'TN',\n",
       "     'LB',\n",
       "     'JO',\n",
       "     'PS',\n",
       "     'IN',\n",
       "     'KZ',\n",
       "     'MD',\n",
       "     'UA',\n",
       "     'AL',\n",
       "     'BA',\n",
       "     'HR',\n",
       "     'ME',\n",
       "     'MK',\n",
       "     'RS',\n",
       "     'SI',\n",
       "     'KR',\n",
       "     'BD',\n",
       "     'PK',\n",
       "     'LK',\n",
       "     'GH',\n",
       "     'KE',\n",
       "     'NG',\n",
       "     'TZ',\n",
       "     'UG',\n",
       "     'AG',\n",
       "     'AM',\n",
       "     'BS',\n",
       "     'BB',\n",
       "     'BZ',\n",
       "     'BT',\n",
       "     'BW',\n",
       "     'BF',\n",
       "     'CV',\n",
       "     'CW',\n",
       "     'DM',\n",
       "     'FJ',\n",
       "     'GM',\n",
       "     'GE',\n",
       "     'GD',\n",
       "     'GW',\n",
       "     'GY',\n",
       "     'HT',\n",
       "     'JM',\n",
       "     'KI',\n",
       "     'LS',\n",
       "     'LR',\n",
       "     'MW',\n",
       "     'MV',\n",
       "     'ML',\n",
       "     'MH',\n",
       "     'FM',\n",
       "     'NA',\n",
       "     'NR',\n",
       "     'NE',\n",
       "     'PW',\n",
       "     'PG',\n",
       "     'WS',\n",
       "     'SM',\n",
       "     'ST',\n",
       "     'SN',\n",
       "     'SC',\n",
       "     'SL',\n",
       "     'SB',\n",
       "     'KN',\n",
       "     'LC',\n",
       "     'VC',\n",
       "     'SR',\n",
       "     'TL',\n",
       "     'TO',\n",
       "     'TT',\n",
       "     'TV',\n",
       "     'VU',\n",
       "     'AZ',\n",
       "     'BN',\n",
       "     'BI',\n",
       "     'KH',\n",
       "     'CM',\n",
       "     'TD',\n",
       "     'KM',\n",
       "     'GQ',\n",
       "     'SZ',\n",
       "     'GA',\n",
       "     'GN',\n",
       "     'KG',\n",
       "     'LA',\n",
       "     'MO',\n",
       "     'MR',\n",
       "     'MN',\n",
       "     'NP',\n",
       "     'RW',\n",
       "     'TG',\n",
       "     'UZ',\n",
       "     'ZW',\n",
       "     'BJ',\n",
       "     'MG',\n",
       "     'MU',\n",
       "     'MZ',\n",
       "     'AO',\n",
       "     'CI',\n",
       "     'DJ',\n",
       "     'ZM',\n",
       "     'CD',\n",
       "     'CG',\n",
       "     'IQ',\n",
       "     'LY',\n",
       "     'TJ',\n",
       "     'VE',\n",
       "     'ET',\n",
       "     'XK'],\n",
       "    'external_urls': {'spotify': 'https://open.spotify.com/album/47VbVxpe5CtPMOFCpzliMr'},\n",
       "    'href': 'https://api.spotify.com/v1/albums/47VbVxpe5CtPMOFCpzliMr',\n",
       "    'id': '47VbVxpe5CtPMOFCpzliMr',\n",
       "    'images': [{'height': 640,\n",
       "      'url': 'https://i.scdn.co/image/ab67616d0000b273fea598091cdef70b34d47a81',\n",
       "      'width': 640},\n",
       "     {'height': 300,\n",
       "      'url': 'https://i.scdn.co/image/ab67616d00001e02fea598091cdef70b34d47a81',\n",
       "      'width': 300},\n",
       "     {'height': 64,\n",
       "      'url': 'https://i.scdn.co/image/ab67616d00004851fea598091cdef70b34d47a81',\n",
       "      'width': 64}],\n",
       "    'name': 'Save Me (From Myself) (feat. Kyle Hume)',\n",
       "    'release_date': '2023-04-07',\n",
       "    'release_date_precision': 'day',\n",
       "    'total_tracks': 3,\n",
       "    'type': 'album',\n",
       "    'uri': 'spotify:album:47VbVxpe5CtPMOFCpzliMr'},\n",
       "   'artists': [{'external_urls': {'spotify': 'https://open.spotify.com/artist/757FXqX0Osk2pqtgv4E5v4'},\n",
       "     'href': 'https://api.spotify.com/v1/artists/757FXqX0Osk2pqtgv4E5v4',\n",
       "     'id': '757FXqX0Osk2pqtgv4E5v4',\n",
       "     'name': 'NURKO',\n",
       "     'type': 'artist',\n",
       "     'uri': 'spotify:artist:757FXqX0Osk2pqtgv4E5v4'},\n",
       "    {'external_urls': {'spotify': 'https://open.spotify.com/artist/0p3tzEAt0XWrBqbrwBoN1I'},\n",
       "     'href': 'https://api.spotify.com/v1/artists/0p3tzEAt0XWrBqbrwBoN1I',\n",
       "     'id': '0p3tzEAt0XWrBqbrwBoN1I',\n",
       "     'name': 'Kyle Hume',\n",
       "     'type': 'artist',\n",
       "     'uri': 'spotify:artist:0p3tzEAt0XWrBqbrwBoN1I'}],\n",
       "   'available_markets': ['AR',\n",
       "    'AU',\n",
       "    'AT',\n",
       "    'BE',\n",
       "    'BO',\n",
       "    'BR',\n",
       "    'BG',\n",
       "    'CA',\n",
       "    'CL',\n",
       "    'CO',\n",
       "    'CR',\n",
       "    'CY',\n",
       "    'CZ',\n",
       "    'DK',\n",
       "    'DO',\n",
       "    'DE',\n",
       "    'EC',\n",
       "    'EE',\n",
       "    'SV',\n",
       "    'FI',\n",
       "    'FR',\n",
       "    'GR',\n",
       "    'GT',\n",
       "    'HN',\n",
       "    'HK',\n",
       "    'HU',\n",
       "    'IS',\n",
       "    'IE',\n",
       "    'IT',\n",
       "    'LV',\n",
       "    'LT',\n",
       "    'LU',\n",
       "    'MY',\n",
       "    'MT',\n",
       "    'MX',\n",
       "    'NL',\n",
       "    'NZ',\n",
       "    'NI',\n",
       "    'NO',\n",
       "    'PA',\n",
       "    'PY',\n",
       "    'PE',\n",
       "    'PH',\n",
       "    'PL',\n",
       "    'PT',\n",
       "    'SG',\n",
       "    'SK',\n",
       "    'ES',\n",
       "    'SE',\n",
       "    'CH',\n",
       "    'TW',\n",
       "    'TR',\n",
       "    'UY',\n",
       "    'US',\n",
       "    'GB',\n",
       "    'AD',\n",
       "    'LI',\n",
       "    'MC',\n",
       "    'ID',\n",
       "    'JP',\n",
       "    'TH',\n",
       "    'VN',\n",
       "    'RO',\n",
       "    'IL',\n",
       "    'ZA',\n",
       "    'SA',\n",
       "    'AE',\n",
       "    'BH',\n",
       "    'QA',\n",
       "    'OM',\n",
       "    'KW',\n",
       "    'EG',\n",
       "    'MA',\n",
       "    'DZ',\n",
       "    'TN',\n",
       "    'LB',\n",
       "    'JO',\n",
       "    'PS',\n",
       "    'IN',\n",
       "    'KZ',\n",
       "    'MD',\n",
       "    'UA',\n",
       "    'AL',\n",
       "    'BA',\n",
       "    'HR',\n",
       "    'ME',\n",
       "    'MK',\n",
       "    'RS',\n",
       "    'SI',\n",
       "    'KR',\n",
       "    'BD',\n",
       "    'PK',\n",
       "    'LK',\n",
       "    'GH',\n",
       "    'KE',\n",
       "    'NG',\n",
       "    'TZ',\n",
       "    'UG',\n",
       "    'AG',\n",
       "    'AM',\n",
       "    'BS',\n",
       "    'BB',\n",
       "    'BZ',\n",
       "    'BT',\n",
       "    'BW',\n",
       "    'BF',\n",
       "    'CV',\n",
       "    'CW',\n",
       "    'DM',\n",
       "    'FJ',\n",
       "    'GM',\n",
       "    'GE',\n",
       "    'GD',\n",
       "    'GW',\n",
       "    'GY',\n",
       "    'HT',\n",
       "    'JM',\n",
       "    'KI',\n",
       "    'LS',\n",
       "    'LR',\n",
       "    'MW',\n",
       "    'MV',\n",
       "    'ML',\n",
       "    'MH',\n",
       "    'FM',\n",
       "    'NA',\n",
       "    'NR',\n",
       "    'NE',\n",
       "    'PW',\n",
       "    'PG',\n",
       "    'WS',\n",
       "    'SM',\n",
       "    'ST',\n",
       "    'SN',\n",
       "    'SC',\n",
       "    'SL',\n",
       "    'SB',\n",
       "    'KN',\n",
       "    'LC',\n",
       "    'VC',\n",
       "    'SR',\n",
       "    'TL',\n",
       "    'TO',\n",
       "    'TT',\n",
       "    'TV',\n",
       "    'VU',\n",
       "    'AZ',\n",
       "    'BN',\n",
       "    'BI',\n",
       "    'KH',\n",
       "    'CM',\n",
       "    'TD',\n",
       "    'KM',\n",
       "    'GQ',\n",
       "    'SZ',\n",
       "    'GA',\n",
       "    'GN',\n",
       "    'KG',\n",
       "    'LA',\n",
       "    'MO',\n",
       "    'MR',\n",
       "    'MN',\n",
       "    'NP',\n",
       "    'RW',\n",
       "    'TG',\n",
       "    'UZ',\n",
       "    'ZW',\n",
       "    'BJ',\n",
       "    'MG',\n",
       "    'MU',\n",
       "    'MZ',\n",
       "    'AO',\n",
       "    'CI',\n",
       "    'DJ',\n",
       "    'ZM',\n",
       "    'CD',\n",
       "    'CG',\n",
       "    'IQ',\n",
       "    'LY',\n",
       "    'TJ',\n",
       "    'VE',\n",
       "    'ET',\n",
       "    'XK'],\n",
       "   'disc_number': 1,\n",
       "   'duration_ms': 218666,\n",
       "   'explicit': False,\n",
       "   'external_ids': {'isrc': 'USUG12301812'},\n",
       "   'external_urls': {'spotify': 'https://open.spotify.com/track/6POZ7ocsOQQvJrfArz6KOD'},\n",
       "   'href': 'https://api.spotify.com/v1/tracks/6POZ7ocsOQQvJrfArz6KOD',\n",
       "   'id': '6POZ7ocsOQQvJrfArz6KOD',\n",
       "   'is_local': False,\n",
       "   'name': 'Save Me (From Myself) (feat. Kyle Hume)',\n",
       "   'popularity': 57,\n",
       "   'preview_url': 'https://p.scdn.co/mp3-preview/df8ab2070dbd9d4780e5f5ce133bb294ece1dc39?cid=1a03d057b2754e71a51fb53f7ea86a89',\n",
       "   'track_number': 1,\n",
       "   'type': 'track',\n",
       "   'uri': 'spotify:track:6POZ7ocsOQQvJrfArz6KOD'}]}"
      ]
     },
     "execution_count": 16,
     "metadata": {},
     "output_type": "execute_result"
    }
   ],
   "source": [
    "# def get_track_genres(url):\n",
    "#     response = requests.get(url=url, headers={\"Authorization\" : f\"{get_auth_header(token)}\"})\n",
    "#     resp_json = response.json()\n",
    "#     return resp_json\n",
    "\n",
    "\n",
    "# get_track_genres(\"https://api.spotify.com/v1/tracks?ids=6POZ7ocsOQQvJrfArz6KOD\")\n",
    "# for track_id in full_list_parsed:\n",
    "#     get_track_genre_url= f\"https://api.spotify.com/v1/tracks/{track_id}\"\n",
    "#     get_track_genres(get_track_genre_url)"
   ]
  },
  {
   "attachments": {},
   "cell_type": "markdown",
   "metadata": {},
   "source": [
    "## Call Track Auto Features API endpoint\n",
    "- https://developer.spotify.com/documentation/web-api/reference/get-several-audio-features"
   ]
  },
  {
   "cell_type": "code",
   "execution_count": 17,
   "metadata": {},
   "outputs": [],
   "source": [
    "def get_tracks_audio_analysis(url):\n",
    "    response = requests.get(url=url, headers={\"Authorization\" : f\"{get_auth_header(token)}\"})\n",
    "    resp_json = response.json()\n",
    "    return resp_json"
   ]
  },
  {
   "attachments": {},
   "cell_type": "markdown",
   "metadata": {},
   "source": [
    "### Creating string for audio track inputs\n",
    "- Spotify limits the inputs to 100 track ids at a time"
   ]
  },
  {
   "cell_type": "code",
   "execution_count": 18,
   "metadata": {},
   "outputs": [],
   "source": [
    "listofids=[]\n",
    "for index, i in enumerate(list(saved_tracks_parsed.values())):\n",
    "    listofids.append(i[\"spotify_track_id\"])"
   ]
  },
  {
   "cell_type": "code",
   "execution_count": 19,
   "metadata": {},
   "outputs": [
    {
     "data": {
      "text/plain": [
       "45.06"
      ]
     },
     "execution_count": 19,
     "metadata": {},
     "output_type": "execute_result"
    }
   ],
   "source": [
    "len(listofids)/100"
   ]
  },
  {
   "attachments": {},
   "cell_type": "markdown",
   "metadata": {},
   "source": [
    "## Breaking up Id Lists\n",
    "- Track Audio Analysis only takes in 100 ids at a time"
   ]
  },
  {
   "cell_type": "code",
   "execution_count": 20,
   "metadata": {},
   "outputs": [],
   "source": [
    "def list_chunks(l,n):\n",
    "    for i in range(0,len(l), n):\n",
    "        yield l[i:i + n]\n",
    "\n",
    "n = 100\n",
    "\n",
    "chunksoftrackids=list(list_chunks(listofids,n))"
   ]
  },
  {
   "cell_type": "code",
   "execution_count": 21,
   "metadata": {},
   "outputs": [
    {
     "data": {
      "text/plain": [
       "46"
      ]
     },
     "execution_count": 21,
     "metadata": {},
     "output_type": "execute_result"
    }
   ],
   "source": [
    "len(chunksoftrackids)"
   ]
  },
  {
   "cell_type": "code",
   "execution_count": 22,
   "metadata": {},
   "outputs": [],
   "source": [
    "string_urls=[]\n",
    "for index,chunk in enumerate(chunksoftrackids):\n",
    "    string_urls.append(','.join(chunk))"
   ]
  },
  {
   "attachments": {},
   "cell_type": "markdown",
   "metadata": {},
   "source": [
    "## Getting Track Audio Features"
   ]
  },
  {
   "cell_type": "code",
   "execution_count": 23,
   "metadata": {},
   "outputs": [],
   "source": [
    "track_audio_features={}\n",
    "for index,i in enumerate(string_urls):\n",
    "    audiofeatures= get_tracks_audio_analysis(f'https://api.spotify.com/v1/audio-features?ids={string_urls[index]}')\n",
    "    for j in audiofeatures[\"audio_features\"]:\n",
    "        track_audio_features[j['uri']] ={\n",
    "                \"danceability\":j[\"danceability\"]\n",
    "                , \"energy\":j[\"energy\"]\n",
    "                , \"key\":j[\"key\"]\n",
    "                , \"loudness\":j[\"loudness\"]\n",
    "                , \"mode\":j[\"mode\"]\n",
    "                , \"speechiness\":j[\"speechiness\"]\n",
    "                , \"acousticness\":j[\"acousticness\"]\n",
    "                , \"instrumentalness\":j[\"instrumentalness\"]\n",
    "                , \"liveness\":j[\"liveness\"]\n",
    "                , \"valence\":j[\"valence\"]\n",
    "                , \"time_signature\":j[\"time_signature\"]\n",
    "                , \"tempo\":j[\"tempo\"]\n",
    "                                        }"
   ]
  },
  {
   "cell_type": "code",
   "execution_count": 24,
   "metadata": {},
   "outputs": [],
   "source": [
    "track_details_all = {k: {**saved_tracks_parsed[k], **track_audio_features[k]} for k in saved_tracks_parsed}"
   ]
  },
  {
   "cell_type": "code",
   "execution_count": 25,
   "metadata": {},
   "outputs": [
    {
     "data": {
      "text/plain": [
       "4506"
      ]
     },
     "execution_count": 25,
     "metadata": {},
     "output_type": "execute_result"
    }
   ],
   "source": [
    "len(track_details_all)"
   ]
  },
  {
   "cell_type": "code",
   "execution_count": 26,
   "metadata": {},
   "outputs": [],
   "source": [
    "# @dataclass\n",
    "# class Song:\n",
    "#     song_id: str\n",
    "#     added_to_playlist_time: datetime\n",
    "#     artist_name: str\n",
    "#     unique_artist_id: str\n",
    "#     release_date: date\n",
    "#     song_name: str\n",
    "#     song_length_seconds: int\n",
    "#     song_explicit: bool\n",
    "#     song_linkId: str\n",
    "#     song_popularity: int\n",
    "#     album_name: str\n",
    "#     spotify_uri_album: str\n",
    "#     spotify_track_id: str\n",
    "#     danceability: float\n",
    "#     energy: float\n",
    "#     key: int\n",
    "#     loudness: float\n",
    "#     mode: float\n",
    "#     speechiness: float\n",
    "#     acousticness: float\n",
    "#     instrumentalness: float\n",
    "#     liveness: float\n",
    "#     valence: float\n",
    "#     time_signature: int\n",
    "#     tempo: float"
   ]
  },
  {
   "cell_type": "code",
   "execution_count": 27,
   "metadata": {},
   "outputs": [],
   "source": [
    "# dataclass_song_data =[Song(k, **v) for k,v in track_details_all.items()]"
   ]
  },
  {
   "cell_type": "code",
   "execution_count": 28,
   "metadata": {},
   "outputs": [],
   "source": [
    "temp=list(track_details_all.values())"
   ]
  },
  {
   "cell_type": "code",
   "execution_count": 29,
   "metadata": {},
   "outputs": [],
   "source": [
    "track_details_df=pd.DataFrame(temp)"
   ]
  },
  {
   "cell_type": "code",
   "execution_count": 40,
   "metadata": {},
   "outputs": [
    {
     "data": {
      "text/html": [
       "<div>\n",
       "<style scoped>\n",
       "    .dataframe tbody tr th:only-of-type {\n",
       "        vertical-align: middle;\n",
       "    }\n",
       "\n",
       "    .dataframe tbody tr th {\n",
       "        vertical-align: top;\n",
       "    }\n",
       "\n",
       "    .dataframe thead th {\n",
       "        text-align: right;\n",
       "    }\n",
       "</style>\n",
       "<table border=\"1\" class=\"dataframe\">\n",
       "  <thead>\n",
       "    <tr style=\"text-align: right;\">\n",
       "      <th></th>\n",
       "      <th>added_to_playlist_time</th>\n",
       "      <th>artist_name</th>\n",
       "      <th>artist_image</th>\n",
       "      <th>unique_artist_id</th>\n",
       "      <th>release_date</th>\n",
       "      <th>song_name</th>\n",
       "      <th>song_length_seconds</th>\n",
       "      <th>song_explicit</th>\n",
       "      <th>song_linkId</th>\n",
       "      <th>song_popularity</th>\n",
       "      <th>...</th>\n",
       "      <th>key</th>\n",
       "      <th>loudness</th>\n",
       "      <th>mode</th>\n",
       "      <th>speechiness</th>\n",
       "      <th>acousticness</th>\n",
       "      <th>instrumentalness</th>\n",
       "      <th>liveness</th>\n",
       "      <th>valence</th>\n",
       "      <th>time_signature</th>\n",
       "      <th>tempo</th>\n",
       "    </tr>\n",
       "  </thead>\n",
       "  <tbody>\n",
       "    <tr>\n",
       "      <th>0</th>\n",
       "      <td>2023-09-22T19:11:14Z</td>\n",
       "      <td>Doja Cat</td>\n",
       "      <td>https://i.scdn.co/image/ab67616d00001e027acee9...</td>\n",
       "      <td>spotify:artist:5cj0lLjcoR7YOSnhnX0Po5</td>\n",
       "      <td>2023-08-04</td>\n",
       "      <td>Paint The Town Red</td>\n",
       "      <td>231.750</td>\n",
       "      <td>True</td>\n",
       "      <td>https://open.spotify.com/track/2IGMVunIBsBLtEQ...</td>\n",
       "      <td>100</td>\n",
       "      <td>...</td>\n",
       "      <td>5</td>\n",
       "      <td>-8.603</td>\n",
       "      <td>1</td>\n",
       "      <td>0.1740</td>\n",
       "      <td>0.26900</td>\n",
       "      <td>0.000003</td>\n",
       "      <td>0.0901</td>\n",
       "      <td>0.732</td>\n",
       "      <td>4</td>\n",
       "      <td>99.968</td>\n",
       "    </tr>\n",
       "    <tr>\n",
       "      <th>1</th>\n",
       "      <td>2023-09-02T01:35:57Z</td>\n",
       "      <td>Grace Grundy</td>\n",
       "      <td>https://i.scdn.co/image/ab67616d00001e02763ea6...</td>\n",
       "      <td>spotify:artist:3pFPBG84k5bQVbL9apf2PD</td>\n",
       "      <td>2016-11-25</td>\n",
       "      <td>(Everything I Do) I Do It for You</td>\n",
       "      <td>123.283</td>\n",
       "      <td>False</td>\n",
       "      <td>https://open.spotify.com/track/4Sope1x1EUQiWPy...</td>\n",
       "      <td>49</td>\n",
       "      <td>...</td>\n",
       "      <td>0</td>\n",
       "      <td>-8.686</td>\n",
       "      <td>1</td>\n",
       "      <td>0.0368</td>\n",
       "      <td>0.89600</td>\n",
       "      <td>0.000000</td>\n",
       "      <td>0.0961</td>\n",
       "      <td>0.243</td>\n",
       "      <td>4</td>\n",
       "      <td>128.841</td>\n",
       "    </tr>\n",
       "    <tr>\n",
       "      <th>2</th>\n",
       "      <td>2023-08-23T20:03:00Z</td>\n",
       "      <td>Jeremy Zucker</td>\n",
       "      <td>https://i.scdn.co/image/ab67616d00001e024f491a...</td>\n",
       "      <td>spotify:artist:3gIRvgZssIb9aiirIg0nI3</td>\n",
       "      <td>2023-06-09</td>\n",
       "      <td>i need you (in my life)</td>\n",
       "      <td>189.106</td>\n",
       "      <td>True</td>\n",
       "      <td>https://open.spotify.com/track/5NMl4DvH391bWzv...</td>\n",
       "      <td>49</td>\n",
       "      <td>...</td>\n",
       "      <td>8</td>\n",
       "      <td>-7.650</td>\n",
       "      <td>1</td>\n",
       "      <td>0.0307</td>\n",
       "      <td>0.10100</td>\n",
       "      <td>0.000062</td>\n",
       "      <td>0.1160</td>\n",
       "      <td>0.625</td>\n",
       "      <td>4</td>\n",
       "      <td>130.015</td>\n",
       "    </tr>\n",
       "    <tr>\n",
       "      <th>3</th>\n",
       "      <td>2023-08-21T23:04:49Z</td>\n",
       "      <td>Parannoul</td>\n",
       "      <td>https://i.scdn.co/image/ab67616d00001e028ef3be...</td>\n",
       "      <td>spotify:artist:7eZbNxarrTW4VkRI8u9aDX</td>\n",
       "      <td>2023-01-28</td>\n",
       "      <td>Polaris</td>\n",
       "      <td>262.500</td>\n",
       "      <td>False</td>\n",
       "      <td>https://open.spotify.com/track/6Yt8PGw2VEbLH5p...</td>\n",
       "      <td>36</td>\n",
       "      <td>...</td>\n",
       "      <td>6</td>\n",
       "      <td>-5.812</td>\n",
       "      <td>1</td>\n",
       "      <td>0.0351</td>\n",
       "      <td>0.00259</td>\n",
       "      <td>0.001750</td>\n",
       "      <td>0.1200</td>\n",
       "      <td>0.158</td>\n",
       "      <td>4</td>\n",
       "      <td>80.015</td>\n",
       "    </tr>\n",
       "    <tr>\n",
       "      <th>4</th>\n",
       "      <td>2023-08-21T23:04:07Z</td>\n",
       "      <td>Caroline Polachek</td>\n",
       "      <td>https://i.scdn.co/image/ab67616d00001e02de1789...</td>\n",
       "      <td>spotify:artist:4Ge8xMJNwt6EEXOzVXju9a</td>\n",
       "      <td>2023-02-14</td>\n",
       "      <td>Billions</td>\n",
       "      <td>297.514</td>\n",
       "      <td>False</td>\n",
       "      <td>https://open.spotify.com/track/4JPF8Te7Jo3AuI2...</td>\n",
       "      <td>50</td>\n",
       "      <td>...</td>\n",
       "      <td>5</td>\n",
       "      <td>-7.892</td>\n",
       "      <td>1</td>\n",
       "      <td>0.1090</td>\n",
       "      <td>0.16900</td>\n",
       "      <td>0.000067</td>\n",
       "      <td>0.0994</td>\n",
       "      <td>0.361</td>\n",
       "      <td>4</td>\n",
       "      <td>139.939</td>\n",
       "    </tr>\n",
       "  </tbody>\n",
       "</table>\n",
       "<p>5 rows × 25 columns</p>\n",
       "</div>"
      ],
      "text/plain": [
       "  added_to_playlist_time        artist_name  \\\n",
       "0   2023-09-22T19:11:14Z           Doja Cat   \n",
       "1   2023-09-02T01:35:57Z       Grace Grundy   \n",
       "2   2023-08-23T20:03:00Z      Jeremy Zucker   \n",
       "3   2023-08-21T23:04:49Z          Parannoul   \n",
       "4   2023-08-21T23:04:07Z  Caroline Polachek   \n",
       "\n",
       "                                        artist_image  \\\n",
       "0  https://i.scdn.co/image/ab67616d00001e027acee9...   \n",
       "1  https://i.scdn.co/image/ab67616d00001e02763ea6...   \n",
       "2  https://i.scdn.co/image/ab67616d00001e024f491a...   \n",
       "3  https://i.scdn.co/image/ab67616d00001e028ef3be...   \n",
       "4  https://i.scdn.co/image/ab67616d00001e02de1789...   \n",
       "\n",
       "                        unique_artist_id release_date  \\\n",
       "0  spotify:artist:5cj0lLjcoR7YOSnhnX0Po5   2023-08-04   \n",
       "1  spotify:artist:3pFPBG84k5bQVbL9apf2PD   2016-11-25   \n",
       "2  spotify:artist:3gIRvgZssIb9aiirIg0nI3   2023-06-09   \n",
       "3  spotify:artist:7eZbNxarrTW4VkRI8u9aDX   2023-01-28   \n",
       "4  spotify:artist:4Ge8xMJNwt6EEXOzVXju9a   2023-02-14   \n",
       "\n",
       "                           song_name  song_length_seconds song_explicit  \\\n",
       "0                 Paint The Town Red              231.750          True   \n",
       "1  (Everything I Do) I Do It for You              123.283         False   \n",
       "2            i need you (in my life)              189.106          True   \n",
       "3                            Polaris              262.500         False   \n",
       "4                           Billions              297.514         False   \n",
       "\n",
       "                                         song_linkId  song_popularity  ...  \\\n",
       "0  https://open.spotify.com/track/2IGMVunIBsBLtEQ...              100  ...   \n",
       "1  https://open.spotify.com/track/4Sope1x1EUQiWPy...               49  ...   \n",
       "2  https://open.spotify.com/track/5NMl4DvH391bWzv...               49  ...   \n",
       "3  https://open.spotify.com/track/6Yt8PGw2VEbLH5p...               36  ...   \n",
       "4  https://open.spotify.com/track/4JPF8Te7Jo3AuI2...               50  ...   \n",
       "\n",
       "  key loudness mode  speechiness  acousticness  instrumentalness  liveness  \\\n",
       "0   5   -8.603    1       0.1740       0.26900          0.000003    0.0901   \n",
       "1   0   -8.686    1       0.0368       0.89600          0.000000    0.0961   \n",
       "2   8   -7.650    1       0.0307       0.10100          0.000062    0.1160   \n",
       "3   6   -5.812    1       0.0351       0.00259          0.001750    0.1200   \n",
       "4   5   -7.892    1       0.1090       0.16900          0.000067    0.0994   \n",
       "\n",
       "   valence  time_signature    tempo  \n",
       "0    0.732               4   99.968  \n",
       "1    0.243               4  128.841  \n",
       "2    0.625               4  130.015  \n",
       "3    0.158               4   80.015  \n",
       "4    0.361               4  139.939  \n",
       "\n",
       "[5 rows x 25 columns]"
      ]
     },
     "execution_count": 40,
     "metadata": {},
     "output_type": "execute_result"
    }
   ],
   "source": [
    "track_details_df.head()"
   ]
  },
  {
   "cell_type": "code",
   "execution_count": 30,
   "metadata": {},
   "outputs": [],
   "source": [
    "track_details_df.to_csv('song_data.csv', sep=',', index=False)"
   ]
  },
  {
   "cell_type": "code",
   "execution_count": 31,
   "metadata": {},
   "outputs": [],
   "source": [
    "# track_details_df.head()"
   ]
  },
  {
   "cell_type": "code",
   "execution_count": 32,
   "metadata": {},
   "outputs": [],
   "source": [
    "# corr = track_details_df.select_dtypes(include=[np.int64, float]).corr()\n",
    "# Create a heatmap\n",
    "# plt.figure(figsize=(10,8)) \n",
    "# sns.heatmap(corr.round(2), annot=True, cmap='coolwarm')"
   ]
  },
  {
   "cell_type": "code",
   "execution_count": 33,
   "metadata": {},
   "outputs": [],
   "source": [
    "# print(track_details_df.columns)\n",
    "# track_details_df.groupby([\"artist_name\"])[\"artist_name\"].count().sort_values(ascending=False)[0:11]\n",
    "# This only counts them if they are the main artist"
   ]
  },
  {
   "cell_type": "code",
   "execution_count": 34,
   "metadata": {},
   "outputs": [],
   "source": [
    "# (track_details_df[\"song_explicit\"].value_counts()/len(track_details_df))*100"
   ]
  },
  {
   "cell_type": "code",
   "execution_count": 35,
   "metadata": {},
   "outputs": [],
   "source": [
    "# track_details_df[\"added_to_playlist_month\"] = pd.to_datetime(track_details_df.added_to_playlist_time).dt.strftime('%Y-%m')"
   ]
  },
  {
   "cell_type": "code",
   "execution_count": 36,
   "metadata": {},
   "outputs": [],
   "source": [
    "# plt.figure(figsize=(25, 10))\n",
    "# plt.bar(data=track_details_df.groupby(\"added_to_playlist_month\").count().sort_values(by=[\"added_to_playlist_month\"])[\"song_name\"], x=track_details_df.groupby(\"added_to_playlist_month\").count().sort_values(by=[\"added_to_playlist_month\"])[\"song_name\"].index, height=track_details_df.groupby(\"added_to_playlist_month\").count().sort_values(by=[\"added_to_playlist_month\"])[\"song_name\"].values)"
   ]
  },
  {
   "cell_type": "code",
   "execution_count": 37,
   "metadata": {},
   "outputs": [
    {
     "data": {
      "text/html": [
       "<div>\n",
       "<style scoped>\n",
       "    .dataframe tbody tr th:only-of-type {\n",
       "        vertical-align: middle;\n",
       "    }\n",
       "\n",
       "    .dataframe tbody tr th {\n",
       "        vertical-align: top;\n",
       "    }\n",
       "\n",
       "    .dataframe thead th {\n",
       "        text-align: right;\n",
       "    }\n",
       "</style>\n",
       "<table border=\"1\" class=\"dataframe\">\n",
       "  <thead>\n",
       "    <tr style=\"text-align: right;\">\n",
       "      <th></th>\n",
       "      <th>added_to_playlist_time</th>\n",
       "      <th>artist_name</th>\n",
       "      <th>artist_image</th>\n",
       "      <th>unique_artist_id</th>\n",
       "      <th>release_date</th>\n",
       "      <th>song_name</th>\n",
       "      <th>song_length_seconds</th>\n",
       "      <th>song_explicit</th>\n",
       "      <th>song_linkId</th>\n",
       "      <th>song_popularity</th>\n",
       "      <th>...</th>\n",
       "      <th>key</th>\n",
       "      <th>loudness</th>\n",
       "      <th>mode</th>\n",
       "      <th>speechiness</th>\n",
       "      <th>acousticness</th>\n",
       "      <th>instrumentalness</th>\n",
       "      <th>liveness</th>\n",
       "      <th>valence</th>\n",
       "      <th>time_signature</th>\n",
       "      <th>tempo</th>\n",
       "    </tr>\n",
       "  </thead>\n",
       "  <tbody>\n",
       "    <tr>\n",
       "      <th>0</th>\n",
       "      <td>2023-09-22T19:11:14Z</td>\n",
       "      <td>Doja Cat</td>\n",
       "      <td>https://i.scdn.co/image/ab67616d00001e027acee9...</td>\n",
       "      <td>spotify:artist:5cj0lLjcoR7YOSnhnX0Po5</td>\n",
       "      <td>2023-08-04</td>\n",
       "      <td>Paint The Town Red</td>\n",
       "      <td>231.750</td>\n",
       "      <td>True</td>\n",
       "      <td>https://open.spotify.com/track/2IGMVunIBsBLtEQ...</td>\n",
       "      <td>100</td>\n",
       "      <td>...</td>\n",
       "      <td>5</td>\n",
       "      <td>-8.603</td>\n",
       "      <td>1</td>\n",
       "      <td>0.1740</td>\n",
       "      <td>0.26900</td>\n",
       "      <td>0.000003</td>\n",
       "      <td>0.0901</td>\n",
       "      <td>0.732</td>\n",
       "      <td>4</td>\n",
       "      <td>99.968</td>\n",
       "    </tr>\n",
       "    <tr>\n",
       "      <th>1</th>\n",
       "      <td>2023-09-02T01:35:57Z</td>\n",
       "      <td>Grace Grundy</td>\n",
       "      <td>https://i.scdn.co/image/ab67616d00001e02763ea6...</td>\n",
       "      <td>spotify:artist:3pFPBG84k5bQVbL9apf2PD</td>\n",
       "      <td>2016-11-25</td>\n",
       "      <td>(Everything I Do) I Do It for You</td>\n",
       "      <td>123.283</td>\n",
       "      <td>False</td>\n",
       "      <td>https://open.spotify.com/track/4Sope1x1EUQiWPy...</td>\n",
       "      <td>49</td>\n",
       "      <td>...</td>\n",
       "      <td>0</td>\n",
       "      <td>-8.686</td>\n",
       "      <td>1</td>\n",
       "      <td>0.0368</td>\n",
       "      <td>0.89600</td>\n",
       "      <td>0.000000</td>\n",
       "      <td>0.0961</td>\n",
       "      <td>0.243</td>\n",
       "      <td>4</td>\n",
       "      <td>128.841</td>\n",
       "    </tr>\n",
       "    <tr>\n",
       "      <th>2</th>\n",
       "      <td>2023-08-23T20:03:00Z</td>\n",
       "      <td>Jeremy Zucker</td>\n",
       "      <td>https://i.scdn.co/image/ab67616d00001e024f491a...</td>\n",
       "      <td>spotify:artist:3gIRvgZssIb9aiirIg0nI3</td>\n",
       "      <td>2023-06-09</td>\n",
       "      <td>i need you (in my life)</td>\n",
       "      <td>189.106</td>\n",
       "      <td>True</td>\n",
       "      <td>https://open.spotify.com/track/5NMl4DvH391bWzv...</td>\n",
       "      <td>49</td>\n",
       "      <td>...</td>\n",
       "      <td>8</td>\n",
       "      <td>-7.650</td>\n",
       "      <td>1</td>\n",
       "      <td>0.0307</td>\n",
       "      <td>0.10100</td>\n",
       "      <td>0.000062</td>\n",
       "      <td>0.1160</td>\n",
       "      <td>0.625</td>\n",
       "      <td>4</td>\n",
       "      <td>130.015</td>\n",
       "    </tr>\n",
       "    <tr>\n",
       "      <th>3</th>\n",
       "      <td>2023-08-21T23:04:49Z</td>\n",
       "      <td>Parannoul</td>\n",
       "      <td>https://i.scdn.co/image/ab67616d00001e028ef3be...</td>\n",
       "      <td>spotify:artist:7eZbNxarrTW4VkRI8u9aDX</td>\n",
       "      <td>2023-01-28</td>\n",
       "      <td>Polaris</td>\n",
       "      <td>262.500</td>\n",
       "      <td>False</td>\n",
       "      <td>https://open.spotify.com/track/6Yt8PGw2VEbLH5p...</td>\n",
       "      <td>36</td>\n",
       "      <td>...</td>\n",
       "      <td>6</td>\n",
       "      <td>-5.812</td>\n",
       "      <td>1</td>\n",
       "      <td>0.0351</td>\n",
       "      <td>0.00259</td>\n",
       "      <td>0.001750</td>\n",
       "      <td>0.1200</td>\n",
       "      <td>0.158</td>\n",
       "      <td>4</td>\n",
       "      <td>80.015</td>\n",
       "    </tr>\n",
       "    <tr>\n",
       "      <th>4</th>\n",
       "      <td>2023-08-21T23:04:07Z</td>\n",
       "      <td>Caroline Polachek</td>\n",
       "      <td>https://i.scdn.co/image/ab67616d00001e02de1789...</td>\n",
       "      <td>spotify:artist:4Ge8xMJNwt6EEXOzVXju9a</td>\n",
       "      <td>2023-02-14</td>\n",
       "      <td>Billions</td>\n",
       "      <td>297.514</td>\n",
       "      <td>False</td>\n",
       "      <td>https://open.spotify.com/track/4JPF8Te7Jo3AuI2...</td>\n",
       "      <td>50</td>\n",
       "      <td>...</td>\n",
       "      <td>5</td>\n",
       "      <td>-7.892</td>\n",
       "      <td>1</td>\n",
       "      <td>0.1090</td>\n",
       "      <td>0.16900</td>\n",
       "      <td>0.000067</td>\n",
       "      <td>0.0994</td>\n",
       "      <td>0.361</td>\n",
       "      <td>4</td>\n",
       "      <td>139.939</td>\n",
       "    </tr>\n",
       "  </tbody>\n",
       "</table>\n",
       "<p>5 rows × 25 columns</p>\n",
       "</div>"
      ],
      "text/plain": [
       "  added_to_playlist_time        artist_name  \\\n",
       "0   2023-09-22T19:11:14Z           Doja Cat   \n",
       "1   2023-09-02T01:35:57Z       Grace Grundy   \n",
       "2   2023-08-23T20:03:00Z      Jeremy Zucker   \n",
       "3   2023-08-21T23:04:49Z          Parannoul   \n",
       "4   2023-08-21T23:04:07Z  Caroline Polachek   \n",
       "\n",
       "                                        artist_image  \\\n",
       "0  https://i.scdn.co/image/ab67616d00001e027acee9...   \n",
       "1  https://i.scdn.co/image/ab67616d00001e02763ea6...   \n",
       "2  https://i.scdn.co/image/ab67616d00001e024f491a...   \n",
       "3  https://i.scdn.co/image/ab67616d00001e028ef3be...   \n",
       "4  https://i.scdn.co/image/ab67616d00001e02de1789...   \n",
       "\n",
       "                        unique_artist_id release_date  \\\n",
       "0  spotify:artist:5cj0lLjcoR7YOSnhnX0Po5   2023-08-04   \n",
       "1  spotify:artist:3pFPBG84k5bQVbL9apf2PD   2016-11-25   \n",
       "2  spotify:artist:3gIRvgZssIb9aiirIg0nI3   2023-06-09   \n",
       "3  spotify:artist:7eZbNxarrTW4VkRI8u9aDX   2023-01-28   \n",
       "4  spotify:artist:4Ge8xMJNwt6EEXOzVXju9a   2023-02-14   \n",
       "\n",
       "                           song_name  song_length_seconds  song_explicit  \\\n",
       "0                 Paint The Town Red              231.750           True   \n",
       "1  (Everything I Do) I Do It for You              123.283          False   \n",
       "2            i need you (in my life)              189.106           True   \n",
       "3                            Polaris              262.500          False   \n",
       "4                           Billions              297.514          False   \n",
       "\n",
       "                                         song_linkId  song_popularity  ...  \\\n",
       "0  https://open.spotify.com/track/2IGMVunIBsBLtEQ...              100  ...   \n",
       "1  https://open.spotify.com/track/4Sope1x1EUQiWPy...               49  ...   \n",
       "2  https://open.spotify.com/track/5NMl4DvH391bWzv...               49  ...   \n",
       "3  https://open.spotify.com/track/6Yt8PGw2VEbLH5p...               36  ...   \n",
       "4  https://open.spotify.com/track/4JPF8Te7Jo3AuI2...               50  ...   \n",
       "\n",
       "  key loudness mode  speechiness  acousticness  instrumentalness  liveness  \\\n",
       "0   5   -8.603    1       0.1740       0.26900          0.000003    0.0901   \n",
       "1   0   -8.686    1       0.0368       0.89600          0.000000    0.0961   \n",
       "2   8   -7.650    1       0.0307       0.10100          0.000062    0.1160   \n",
       "3   6   -5.812    1       0.0351       0.00259          0.001750    0.1200   \n",
       "4   5   -7.892    1       0.1090       0.16900          0.000067    0.0994   \n",
       "\n",
       "   valence  time_signature    tempo  \n",
       "0    0.732               4   99.968  \n",
       "1    0.243               4  128.841  \n",
       "2    0.625               4  130.015  \n",
       "3    0.158               4   80.015  \n",
       "4    0.361               4  139.939  \n",
       "\n",
       "[5 rows x 25 columns]"
      ]
     },
     "execution_count": 37,
     "metadata": {},
     "output_type": "execute_result"
    }
   ],
   "source": [
    "# temp = pd.DataFrame(pd.read_csv('song_data.csv'))\n",
    "# temp.head()"
   ]
  },
  {
   "attachments": {},
   "cell_type": "markdown",
   "metadata": {},
   "source": [
    "## Getting Most associated Artists and Tracks"
   ]
  },
  {
   "attachments": {},
   "cell_type": "markdown",
   "metadata": {},
   "source": [
    "### Request user Auth"
   ]
  },
  {
   "cell_type": "code",
   "execution_count": 30,
   "metadata": {},
   "outputs": [
    {
     "data": {
      "text/plain": [
       "True"
      ]
     },
     "execution_count": 30,
     "metadata": {},
     "output_type": "execute_result"
    }
   ],
   "source": [
    "# Create the authorization URL\n",
    "params = {\n",
    "    'response_type': 'code',\n",
    "    'client_id': CLIENT_ID,\n",
    "    'scope': SCOPE_USER_TOP_READ,\n",
    "    'redirect_uri': REDIRECT_URI,\n",
    "}\n",
    "url = f\"https://accounts.spotify.com/authorize?{urllib.parse.urlencode(params)}\"\n",
    "\n",
    "# Open the authorization URL in the default web browser\n",
    "webbrowser.open(url)"
   ]
  },
  {
   "attachments": {},
   "cell_type": "markdown",
   "metadata": {},
   "source": [
    "## USER TOP TOKEN"
   ]
  },
  {
   "cell_type": "code",
   "execution_count": 31,
   "metadata": {},
   "outputs": [],
   "source": [
    "CODE=\"AQAKxLalHDT7WnSPf8MMI334qk_rdLQi8C0I-Uhdv6mJITu8c6tkDjGBC_4-ROluwVsmcucARsbAFdtBib4G2KU9eR9wq5seKSPRowPaRRdugvDsZe04uf_gB_wena8ouIufJ8nDgG6nsE31vhz9eQbPICBn07Aot9ssEN8n0ZojYLfMPFPhHPE\""
   ]
  },
  {
   "attachments": {},
   "cell_type": "markdown",
   "metadata": {},
   "source": [
    "### USER TOP SCOPE TOKEN"
   ]
  },
  {
   "cell_type": "code",
   "execution_count": 32,
   "metadata": {},
   "outputs": [],
   "source": [
    "def get_token_info():\n",
    "    auth_header =base64.b64encode(f\"{CLIENT_ID}:{CLIENT_SECRET}\".encode('utf-8')).decode('utf-8')\n",
    "    url =\"https://accounts.spotify.com/api/token\"\n",
    "    headers={\n",
    "            \"Authorization\": f\"Basic {auth_header}\",\n",
    "            \"Content-Type\": \"application/x-www-form-urlencoded\",}\n",
    "    data={\n",
    "            \"grant_type\": \"authorization_code\",\n",
    "            \"code\" : CODE,\n",
    "            \"redirect_uri\": REDIRECT_URI}\n",
    "    result=requests.post(url, headers=headers, data=data)\n",
    "    json_results=json.loads(result.content)\n",
    "    return json_results\n",
    "\n",
    "token_details=get_token_info()"
   ]
  },
  {
   "cell_type": "code",
   "execution_count": 33,
   "metadata": {},
   "outputs": [],
   "source": [
    "USER_TOP_ITEM_SCOPE_TOKEN=token_details[\"access_token\"]"
   ]
  },
  {
   "cell_type": "code",
   "execution_count": 34,
   "metadata": {},
   "outputs": [],
   "source": [
    "def get_top_user_items(url_items):\n",
    "    response = requests.get(url=url_items, headers={\"Authorization\" : f\"{get_auth_header(USER_TOP_ITEM_SCOPE_TOKEN)}\"})\n",
    "    resp_json = response.json()\n",
    "    return resp_json"
   ]
  },
  {
   "cell_type": "code",
   "execution_count": 39,
   "metadata": {},
   "outputs": [],
   "source": [
    "url_items_long = \"https://api.spotify.com/v1/me/top/artists?limit=50&offset=0&time_range=long_term\"\n",
    "url_items_short = \"https://api.spotify.com/v1/me/top/artists?limit=50&offset=0&time_range=short_term\"\n",
    "results_top_user_items_short = get_top_user_items(url_items_short)\n",
    "results_top_user_items_long = get_top_user_items(url_items_long)"
   ]
  },
  {
   "cell_type": "code",
   "execution_count": 276,
   "metadata": {},
   "outputs": [
    {
     "data": {
      "text/plain": [
       "{'Juice WRLD': ['chicago rap', 'melodic rap', 'rap'],\n",
       " 'Trippie Redd': ['melodic rap', 'rap', 'trap'],\n",
       " 'Kanye West': ['chicago rap', 'hip hop', 'rap'],\n",
       " 'The Kid LAROI': ['australian hip hop'],\n",
       " 'Chelsea Cutler': ['alt z'],\n",
       " 'Drake': ['canadian hip hop', 'canadian pop', 'hip hop', 'pop rap', 'rap'],\n",
       " 'iann dior': ['melodic rap'],\n",
       " 'ILLENIUM': ['edm', 'melodic dubstep', 'pop dance'],\n",
       " 'shinigami': ['cloud rap', 'emo rap', 'scream rap'],\n",
       " 'Future': ['atl hip hop', 'hip hop', 'rap', 'southern hip hop', 'trap'],\n",
       " 'Trevor Daniel': ['melodic rap'],\n",
       " 'Playboi Carti': ['atl hip hop', 'plugg', 'pluggnb', 'rage rap', 'rap'],\n",
       " 'Polo G': ['chicago rap', 'rap'],\n",
       " 'NURKO': ['melodic dubstep', 'pop edm'],\n",
       " 'Pop Smoke': ['brooklyn drill', 'rap'],\n",
       " 'Machine Gun Kelly': ['ohio hip hop', 'pop rap'],\n",
       " 'Said The Sky': ['melodic dubstep', 'pop edm'],\n",
       " 'MOD SUN': ['indie pop rap', 'minnesota hip hop'],\n",
       " 'Lil Uzi Vert': ['hip hop', 'melodic rap', 'philly rap', 'rage rap', 'rap'],\n",
       " 'Fivio Foreign': ['brooklyn drill', 'new york drill', 'trap'],\n",
       " 'Lil Tecca': ['melodic rap', 'pluggnb', 'rap'],\n",
       " 'XXXTENTACION': ['emo rap', 'miami hip hop'],\n",
       " 'Luke Combs': ['contemporary country', 'country'],\n",
       " 'YNW Melly': ['melodic rap', 'rap'],\n",
       " 'mike.': ['indie pop rap', 'rhode island rap'],\n",
       " 'Marc E. Bassy': ['indie pop rap'],\n",
       " 'Porter Robinson': ['complextro',\n",
       "  'edm',\n",
       "  'electro house',\n",
       "  'pop dance',\n",
       "  'progressive electro house'],\n",
       " 'Tyler, The Creator': ['hip hop', 'rap'],\n",
       " 'Tory Lanez': ['canadian hip hop',\n",
       "  'canadian trap',\n",
       "  'melodic rap',\n",
       "  'pop rap',\n",
       "  'r&b',\n",
       "  'rap',\n",
       "  'trap'],\n",
       " 'Jeremy Zucker': ['alt z', 'electropop', 'pop'],\n",
       " 'Post Malone': ['dfw rap', 'melodic rap', 'pop', 'rap'],\n",
       " 'Meek Mill': ['hip hop',\n",
       "  'philly rap',\n",
       "  'pop rap',\n",
       "  'rap',\n",
       "  'southern hip hop',\n",
       "  'trap'],\n",
       " 'NLE Choppa': ['memphis hip hop', 'rap'],\n",
       " 'Sleepy Hallow': ['brooklyn drill', 'nyc rap'],\n",
       " 'Travis Scott': ['hip hop', 'rap', 'slap house'],\n",
       " 'Aries': [],\n",
       " 'Yung Pinch': ['melodic rap', 'oc rap'],\n",
       " 'NAV': ['canadian hip hop', 'canadian trap', 'melodic rap', 'rap', 'trap'],\n",
       " 'SLANDER': ['brostep', 'dubstep'],\n",
       " 'Cheat Codes': ['edm', 'pop', 'pop dance'],\n",
       " 'Frank Ocean': ['lgbtq+ hip hop', 'neo soul'],\n",
       " 'A Boogie Wit da Hoodie': ['melodic rap', 'rap', 'trap'],\n",
       " 'Quinn XCII': ['indie pop rap'],\n",
       " 'Ty Dolla $ign': ['hip hop',\n",
       "  'pop rap',\n",
       "  'r&b',\n",
       "  'southern hip hop',\n",
       "  'trap',\n",
       "  'trap soul'],\n",
       " 'Internet Money': ['pop rap'],\n",
       " 'Gryffin': ['edm', 'pop dance'],\n",
       " 'Pi’erre Bourne': ['melodic rap'],\n",
       " 'carobae': ['alt z'],\n",
       " 'Logic': ['conscious hip hop', 'hip hop', 'pop rap', 'rap'],\n",
       " 'Rich The Kid': ['atl hip hop', 'melodic rap', 'plugg', 'rap', 'trap']}"
      ]
     },
     "execution_count": 276,
     "metadata": {},
     "output_type": "execute_result"
    }
   ],
   "source": [
    "# results_top_user_items_long\n",
    "results_top_user_items_long_dict = {i[\"name\"]:i[\"genres\"] for i in results_top_user_items_long['items']}\n",
    "results_top_user_items_long_dict"
   ]
  },
  {
   "cell_type": "code",
   "execution_count": 277,
   "metadata": {},
   "outputs": [
    {
     "data": {
      "text/plain": [
       "{'Luke Combs': ['contemporary country', 'country'],\n",
       " 'Caroline Polachek': ['art pop', 'escape room', 'indie pop', 'indietronica'],\n",
       " 'Chelsea Cutler': ['alt z'],\n",
       " 'Juice WRLD': ['chicago rap', 'melodic rap', 'rap'],\n",
       " 'Trippie Redd': ['melodic rap', 'rap', 'trap'],\n",
       " 'Drake': ['canadian hip hop', 'canadian pop', 'hip hop', 'pop rap', 'rap'],\n",
       " 'Tate McRae': ['alt z', 'pop'],\n",
       " 'Future': ['atl hip hop', 'hip hop', 'rap', 'southern hip hop', 'trap'],\n",
       " 'iann dior': ['melodic rap'],\n",
       " 'Tory Lanez': ['canadian hip hop',\n",
       "  'canadian trap',\n",
       "  'melodic rap',\n",
       "  'pop rap',\n",
       "  'r&b',\n",
       "  'rap',\n",
       "  'trap'],\n",
       " 'Lil Uzi Vert': ['hip hop', 'melodic rap', 'philly rap', 'rage rap', 'rap'],\n",
       " 'NURKO': ['melodic dubstep', 'pop edm'],\n",
       " 'XXXTENTACION': ['emo rap', 'miami hip hop'],\n",
       " 'Post Malone': ['dfw rap', 'melodic rap', 'pop', 'rap'],\n",
       " 'Kendrick Lamar': ['conscious hip hop', 'hip hop', 'rap', 'west coast rap'],\n",
       " 'A Boogie Wit da Hoodie': ['melodic rap', 'rap', 'trap'],\n",
       " 'Kanye West': ['chicago rap', 'hip hop', 'rap'],\n",
       " 'NAV': ['canadian hip hop', 'canadian trap', 'melodic rap', 'rap', 'trap'],\n",
       " 'Frank Ocean': ['lgbtq+ hip hop', 'neo soul'],\n",
       " 'Marc E. Bassy': ['indie pop rap'],\n",
       " 'Pi’erre Bourne': ['melodic rap'],\n",
       " 'ILLENIUM': ['edm', 'melodic dubstep', 'pop dance'],\n",
       " 'NLE Choppa': ['memphis hip hop', 'rap'],\n",
       " 'shinigami': ['cloud rap', 'emo rap', 'scream rap'],\n",
       " 'Meek Mill': ['hip hop',\n",
       "  'philly rap',\n",
       "  'pop rap',\n",
       "  'rap',\n",
       "  'southern hip hop',\n",
       "  'trap'],\n",
       " 'Porter Robinson': ['complextro',\n",
       "  'edm',\n",
       "  'electro house',\n",
       "  'pop dance',\n",
       "  'progressive electro house'],\n",
       " 'Yung Pinch': ['melodic rap', 'oc rap'],\n",
       " 'Migos': ['atl hip hop', 'hip hop', 'pop rap', 'rap', 'trap'],\n",
       " 'Pop Smoke': ['brooklyn drill', 'rap'],\n",
       " 'Fivio Foreign': ['brooklyn drill', 'new york drill', 'trap'],\n",
       " 'The Weeknd': ['canadian contemporary r&b', 'canadian pop', 'pop'],\n",
       " 'Rich The Kid': ['atl hip hop', 'melodic rap', 'plugg', 'rap', 'trap'],\n",
       " 'SLANDER': ['brostep', 'dubstep'],\n",
       " 'Gunna': ['atl hip hop', 'melodic rap', 'rap', 'trap'],\n",
       " 'The Kid LAROI': ['australian hip hop'],\n",
       " 'Logic': ['conscious hip hop', 'hip hop', 'pop rap', 'rap'],\n",
       " 'mike.': ['indie pop rap', 'rhode island rap'],\n",
       " 'Lil Baby': ['atl hip hop', 'atl trap', 'rap', 'trap'],\n",
       " 'Playboi Carti': ['atl hip hop', 'plugg', 'pluggnb', 'rage rap', 'rap'],\n",
       " 'G-Eazy': ['indie pop rap', 'oakland hip hop', 'pop rap', 'rap'],\n",
       " 'Travis Scott': ['hip hop', 'rap', 'slap house'],\n",
       " '2 Chainz': ['atl hip hop',\n",
       "  'hip hop',\n",
       "  'pop rap',\n",
       "  'rap',\n",
       "  'southern hip hop',\n",
       "  'trap'],\n",
       " 'Russ': ['hawaiian hip hop', 'pop rap'],\n",
       " 'Joey Bada$$': ['conscious hip hop', 'hip hop', 'rap'],\n",
       " 'Quinn XCII': ['indie pop rap'],\n",
       " 'Lil Durk': ['chicago drill',\n",
       "  'chicago rap',\n",
       "  'drill',\n",
       "  'hip hop',\n",
       "  'rap',\n",
       "  'trap'],\n",
       " 'Wale': ['pop rap', 'r&b', 'rap', 'southern hip hop', 'trap'],\n",
       " 'Polo G': ['chicago rap', 'rap'],\n",
       " 'Dominic Fike': ['alternative pop rock', 'pov: indie'],\n",
       " 'Lil Tjay': ['brooklyn drill', 'melodic rap', 'nyc rap', 'rap']}"
      ]
     },
     "execution_count": 277,
     "metadata": {},
     "output_type": "execute_result"
    }
   ],
   "source": [
    "# results_top_user_items_long\n",
    "results_top_user_items_short_dict = {i[\"name\"]:i[\"genres\"] for i in results_top_user_items_short['items']}\n",
    "results_top_user_items_short_dict"
   ]
  },
  {
   "cell_type": "code",
   "execution_count": 278,
   "metadata": {},
   "outputs": [],
   "source": [
    "from collections import Counter"
   ]
  },
  {
   "cell_type": "code",
   "execution_count": 281,
   "metadata": {},
   "outputs": [],
   "source": [
    "# def genre_metrics(dictionary):\n",
    "genre_sublists = results_top_user_items_short_dict.values()\n",
    "genre_list = [genre for sublist in genre_sublists for genre in sublist]\n",
    "# distinct_genres = len(set(genre_list))\n",
    "total_genres = len(genre_list)\n",
    "temp = Counter(genre_list)\n",
    "final_percs = {key:round((value/total_genres)*100,2) for key, value in temp.items()}\n",
    "final = dict(sorted(final_percs.items(), key=lambda x:x[1],  reverse=True))\n",
    "top_5_genres = [i for i in final.keys()][:10]\n",
    "top_5_dict = {k: final[k] for k in top_5_genres}\n",
    "other_dict_temp = {k: final[k] for k in final if k not in top_5_genres}\n",
    "other_dict = {\"other\": round(sum(other_dict_temp.values()),2) }\n",
    "top_5_dict.update(other_dict)\n",
    "    # return top_5_dict"
   ]
  },
  {
   "cell_type": "code",
   "execution_count": 284,
   "metadata": {},
   "outputs": [
    {
     "data": {
      "text/plain": [
       "Counter({'contemporary country': 1,\n",
       "         'country': 1,\n",
       "         'art pop': 1,\n",
       "         'escape room': 1,\n",
       "         'indie pop': 1,\n",
       "         'indietronica': 1,\n",
       "         'alt z': 2,\n",
       "         'chicago rap': 4,\n",
       "         'melodic rap': 13,\n",
       "         'rap': 28,\n",
       "         'trap': 14,\n",
       "         'canadian hip hop': 3,\n",
       "         'canadian pop': 2,\n",
       "         'hip hop': 12,\n",
       "         'pop rap': 9,\n",
       "         'pop': 3,\n",
       "         'atl hip hop': 7,\n",
       "         'southern hip hop': 4,\n",
       "         'canadian trap': 2,\n",
       "         'r&b': 2,\n",
       "         'philly rap': 2,\n",
       "         'rage rap': 2,\n",
       "         'melodic dubstep': 2,\n",
       "         'pop edm': 1,\n",
       "         'emo rap': 2,\n",
       "         'miami hip hop': 1,\n",
       "         'dfw rap': 1,\n",
       "         'conscious hip hop': 3,\n",
       "         'west coast rap': 1,\n",
       "         'lgbtq+ hip hop': 1,\n",
       "         'neo soul': 1,\n",
       "         'indie pop rap': 4,\n",
       "         'edm': 2,\n",
       "         'pop dance': 2,\n",
       "         'memphis hip hop': 1,\n",
       "         'cloud rap': 1,\n",
       "         'scream rap': 1,\n",
       "         'complextro': 1,\n",
       "         'electro house': 1,\n",
       "         'progressive electro house': 1,\n",
       "         'oc rap': 1,\n",
       "         'brooklyn drill': 3,\n",
       "         'new york drill': 1,\n",
       "         'canadian contemporary r&b': 1,\n",
       "         'plugg': 2,\n",
       "         'brostep': 1,\n",
       "         'dubstep': 1,\n",
       "         'australian hip hop': 1,\n",
       "         'rhode island rap': 1,\n",
       "         'atl trap': 1,\n",
       "         'pluggnb': 1,\n",
       "         'oakland hip hop': 1,\n",
       "         'slap house': 1,\n",
       "         'hawaiian hip hop': 1,\n",
       "         'chicago drill': 1,\n",
       "         'drill': 1,\n",
       "         'alternative pop rock': 1,\n",
       "         'pov: indie': 1,\n",
       "         'nyc rap': 1})"
      ]
     },
     "execution_count": 284,
     "metadata": {},
     "output_type": "execute_result"
    }
   ],
   "source": [
    "temp"
   ]
  },
  {
   "cell_type": "code",
   "execution_count": 285,
   "metadata": {},
   "outputs": [
    {
     "data": {
      "text/html": [
       "<div>\n",
       "<style scoped>\n",
       "    .dataframe tbody tr th:only-of-type {\n",
       "        vertical-align: middle;\n",
       "    }\n",
       "\n",
       "    .dataframe tbody tr th {\n",
       "        vertical-align: top;\n",
       "    }\n",
       "\n",
       "    .dataframe thead th {\n",
       "        text-align: right;\n",
       "    }\n",
       "</style>\n",
       "<table border=\"1\" class=\"dataframe\">\n",
       "  <thead>\n",
       "    <tr style=\"text-align: right;\">\n",
       "      <th></th>\n",
       "      <th>rap</th>\n",
       "      <th>trap</th>\n",
       "      <th>melodic rap</th>\n",
       "      <th>hip hop</th>\n",
       "      <th>pop rap</th>\n",
       "      <th>atl hip hop</th>\n",
       "      <th>chicago rap</th>\n",
       "      <th>southern hip hop</th>\n",
       "      <th>indie pop rap</th>\n",
       "      <th>canadian hip hop</th>\n",
       "      <th>other</th>\n",
       "    </tr>\n",
       "  </thead>\n",
       "  <tbody>\n",
       "    <tr>\n",
       "      <th>0</th>\n",
       "      <td>17.07</td>\n",
       "      <td>8.54</td>\n",
       "      <td>7.93</td>\n",
       "      <td>7.32</td>\n",
       "      <td>5.49</td>\n",
       "      <td>4.27</td>\n",
       "      <td>2.44</td>\n",
       "      <td>2.44</td>\n",
       "      <td>2.44</td>\n",
       "      <td>1.83</td>\n",
       "      <td>40.26</td>\n",
       "    </tr>\n",
       "  </tbody>\n",
       "</table>\n",
       "</div>"
      ],
      "text/plain": [
       "     rap  trap  melodic rap  hip hop  pop rap  atl hip hop  chicago rap  \\\n",
       "0  17.07  8.54         7.93     7.32     5.49         4.27         2.44   \n",
       "\n",
       "   southern hip hop  indie pop rap  canadian hip hop  other  \n",
       "0              2.44           2.44              1.83  40.26  "
      ]
     },
     "execution_count": 285,
     "metadata": {},
     "output_type": "execute_result"
    }
   ],
   "source": [
    "long_df = pd.DataFrame(top_5_dict, index=[0])\n",
    "# long_df.insert(0,  \"length\", \"long_term\")\n",
    "long_df"
   ]
  },
  {
   "cell_type": "code",
   "execution_count": 269,
   "metadata": {},
   "outputs": [
    {
     "data": {
      "text/html": [
       "<div>\n",
       "<style scoped>\n",
       "    .dataframe tbody tr th:only-of-type {\n",
       "        vertical-align: middle;\n",
       "    }\n",
       "\n",
       "    .dataframe tbody tr th {\n",
       "        vertical-align: top;\n",
       "    }\n",
       "\n",
       "    .dataframe thead th {\n",
       "        text-align: right;\n",
       "    }\n",
       "</style>\n",
       "<table border=\"1\" class=\"dataframe\">\n",
       "  <thead>\n",
       "    <tr style=\"text-align: right;\">\n",
       "      <th></th>\n",
       "      <th>rap</th>\n",
       "      <th>trap</th>\n",
       "      <th>melodic rap</th>\n",
       "      <th>hip hop</th>\n",
       "      <th>pop rap</th>\n",
       "      <th>atl hip hop</th>\n",
       "      <th>chicago rap</th>\n",
       "      <th>southern hip hop</th>\n",
       "      <th>indie pop rap</th>\n",
       "      <th>canadian hip hop</th>\n",
       "      <th>other</th>\n",
       "    </tr>\n",
       "  </thead>\n",
       "  <tbody>\n",
       "    <tr>\n",
       "      <th>0</th>\n",
       "      <td>17.07</td>\n",
       "      <td>8.54</td>\n",
       "      <td>7.93</td>\n",
       "      <td>7.32</td>\n",
       "      <td>5.49</td>\n",
       "      <td>4.27</td>\n",
       "      <td>2.44</td>\n",
       "      <td>2.44</td>\n",
       "      <td>2.44</td>\n",
       "      <td>1.83</td>\n",
       "      <td>40.26</td>\n",
       "    </tr>\n",
       "  </tbody>\n",
       "</table>\n",
       "</div>"
      ],
      "text/plain": [
       "     rap  trap  melodic rap  hip hop  pop rap  atl hip hop  chicago rap  \\\n",
       "0  17.07  8.54         7.93     7.32     5.49         4.27         2.44   \n",
       "\n",
       "   southern hip hop  indie pop rap  canadian hip hop  other  \n",
       "0              2.44           2.44              1.83  40.26  "
      ]
     },
     "execution_count": 269,
     "metadata": {},
     "output_type": "execute_result"
    }
   ],
   "source": [
    "short_df = pd.DataFrame(genre_metrics(results_top_user_items_short_dict), index=[0])\n",
    "# short_df.insert(0,  \"length\", \"short_term\")\n",
    "short_df"
   ]
  },
  {
   "cell_type": "code",
   "execution_count": 270,
   "metadata": {},
   "outputs": [
    {
     "data": {
      "text/html": [
       "<div>\n",
       "<style scoped>\n",
       "    .dataframe tbody tr th:only-of-type {\n",
       "        vertical-align: middle;\n",
       "    }\n",
       "\n",
       "    .dataframe tbody tr th {\n",
       "        vertical-align: top;\n",
       "    }\n",
       "\n",
       "    .dataframe thead th {\n",
       "        text-align: right;\n",
       "    }\n",
       "</style>\n",
       "<table border=\"1\" class=\"dataframe\">\n",
       "  <thead>\n",
       "    <tr style=\"text-align: right;\">\n",
       "      <th></th>\n",
       "      <th>rap</th>\n",
       "      <th>trap</th>\n",
       "      <th>melodic rap</th>\n",
       "      <th>hip hop</th>\n",
       "      <th>pop rap</th>\n",
       "      <th>atl hip hop</th>\n",
       "      <th>chicago rap</th>\n",
       "      <th>southern hip hop</th>\n",
       "      <th>indie pop rap</th>\n",
       "      <th>canadian hip hop</th>\n",
       "      <th>other</th>\n",
       "      <th>edm</th>\n",
       "      <th>pop dance</th>\n",
       "      <th>alt z</th>\n",
       "    </tr>\n",
       "  </thead>\n",
       "  <tbody>\n",
       "    <tr>\n",
       "      <th>0</th>\n",
       "      <td>17.07</td>\n",
       "      <td>8.54</td>\n",
       "      <td>7.93</td>\n",
       "      <td>7.32</td>\n",
       "      <td>5.49</td>\n",
       "      <td>4.27</td>\n",
       "      <td>2.44</td>\n",
       "      <td>2.44</td>\n",
       "      <td>2.44</td>\n",
       "      <td>1.83</td>\n",
       "      <td>40.26</td>\n",
       "      <td>NaN</td>\n",
       "      <td>NaN</td>\n",
       "      <td>NaN</td>\n",
       "    </tr>\n",
       "    <tr>\n",
       "      <th>1</th>\n",
       "      <td>15.22</td>\n",
       "      <td>6.52</td>\n",
       "      <td>10.14</td>\n",
       "      <td>6.52</td>\n",
       "      <td>5.07</td>\n",
       "      <td>NaN</td>\n",
       "      <td>2.17</td>\n",
       "      <td>NaN</td>\n",
       "      <td>2.90</td>\n",
       "      <td>NaN</td>\n",
       "      <td>43.34</td>\n",
       "      <td>2.9</td>\n",
       "      <td>2.9</td>\n",
       "      <td>2.17</td>\n",
       "    </tr>\n",
       "  </tbody>\n",
       "</table>\n",
       "</div>"
      ],
      "text/plain": [
       "     rap  trap  melodic rap  hip hop  pop rap  atl hip hop  chicago rap  \\\n",
       "0  17.07  8.54         7.93     7.32     5.49         4.27         2.44   \n",
       "1  15.22  6.52        10.14     6.52     5.07          NaN         2.17   \n",
       "\n",
       "   southern hip hop  indie pop rap  canadian hip hop  other  edm  pop dance  \\\n",
       "0              2.44           2.44              1.83  40.26  NaN        NaN   \n",
       "1               NaN           2.90               NaN  43.34  2.9        2.9   \n",
       "\n",
       "   alt z  \n",
       "0    NaN  \n",
       "1   2.17  "
      ]
     },
     "execution_count": 270,
     "metadata": {},
     "output_type": "execute_result"
    }
   ],
   "source": [
    "combined_df = pd.concat([short_df, long_df], axis=0, join=\"outer\").reset_index().drop(columns=[\"index\"])\n",
    "combined_df"
   ]
  },
  {
   "cell_type": "code",
   "execution_count": 271,
   "metadata": {},
   "outputs": [],
   "source": [
    "# import plotly.express as px\n",
    "# fig = px.treemap(combined_df, path=[combined_df.columns], values=combined_df.select_dtypes(include=['float64', 'int64']).values.flatten())\n",
    "# fig.update_traces(root_color=\"lightgrey\")\n",
    "# fig.update_layout(margin = dict(t=50, l=25, r=25, b=25))\n",
    "# fig.show()"
   ]
  },
  {
   "cell_type": "code",
   "execution_count": 272,
   "metadata": {},
   "outputs": [
    {
     "data": {
      "application/vnd.plotly.v1+json": {
       "config": {
        "plotlyServerURL": "https://plot.ly"
       },
       "data": [
        {
         "branchvalues": "total",
         "domain": {
          "x": [
           0,
           1
          ],
          "y": [
           0,
           1
          ]
         },
         "hovertemplate": "labels=%{label}<br>value=%{value}<br>parent=%{parent}<br>id=%{id}<extra></extra>",
         "ids": [
          "atl hip hop",
          "canadian hip hop",
          "chicago rap",
          "hip hop",
          "indie pop rap",
          "melodic rap",
          "other",
          "pop rap",
          "rap",
          "southern hip hop",
          "trap"
         ],
         "labels": [
          "atl hip hop",
          "canadian hip hop",
          "chicago rap",
          "hip hop",
          "indie pop rap",
          "melodic rap",
          "other",
          "pop rap",
          "rap",
          "southern hip hop",
          "trap"
         ],
         "marker": {
          "cornerradius": 5
         },
         "name": "",
         "parents": [
          "",
          "",
          "",
          "",
          "",
          "",
          "",
          "",
          "",
          "",
          ""
         ],
         "root": {
          "color": "lightgrey"
         },
         "type": "treemap",
         "values": [
          4.27,
          1.83,
          2.44,
          7.32,
          2.44,
          7.93,
          40.26,
          5.49,
          17.07,
          2.44,
          8.54
         ]
        }
       ],
       "layout": {
        "legend": {
         "tracegroupgap": 0
        },
        "margin": {
         "b": 25,
         "l": 25,
         "r": 25,
         "t": 50
        },
        "template": {
         "data": {
          "bar": [
           {
            "error_x": {
             "color": "#2a3f5f"
            },
            "error_y": {
             "color": "#2a3f5f"
            },
            "marker": {
             "line": {
              "color": "#E5ECF6",
              "width": 0.5
             },
             "pattern": {
              "fillmode": "overlay",
              "size": 10,
              "solidity": 0.2
             }
            },
            "type": "bar"
           }
          ],
          "barpolar": [
           {
            "marker": {
             "line": {
              "color": "#E5ECF6",
              "width": 0.5
             },
             "pattern": {
              "fillmode": "overlay",
              "size": 10,
              "solidity": 0.2
             }
            },
            "type": "barpolar"
           }
          ],
          "carpet": [
           {
            "aaxis": {
             "endlinecolor": "#2a3f5f",
             "gridcolor": "white",
             "linecolor": "white",
             "minorgridcolor": "white",
             "startlinecolor": "#2a3f5f"
            },
            "baxis": {
             "endlinecolor": "#2a3f5f",
             "gridcolor": "white",
             "linecolor": "white",
             "minorgridcolor": "white",
             "startlinecolor": "#2a3f5f"
            },
            "type": "carpet"
           }
          ],
          "choropleth": [
           {
            "colorbar": {
             "outlinewidth": 0,
             "ticks": ""
            },
            "type": "choropleth"
           }
          ],
          "contour": [
           {
            "colorbar": {
             "outlinewidth": 0,
             "ticks": ""
            },
            "colorscale": [
             [
              0,
              "#0d0887"
             ],
             [
              0.1111111111111111,
              "#46039f"
             ],
             [
              0.2222222222222222,
              "#7201a8"
             ],
             [
              0.3333333333333333,
              "#9c179e"
             ],
             [
              0.4444444444444444,
              "#bd3786"
             ],
             [
              0.5555555555555556,
              "#d8576b"
             ],
             [
              0.6666666666666666,
              "#ed7953"
             ],
             [
              0.7777777777777778,
              "#fb9f3a"
             ],
             [
              0.8888888888888888,
              "#fdca26"
             ],
             [
              1,
              "#f0f921"
             ]
            ],
            "type": "contour"
           }
          ],
          "contourcarpet": [
           {
            "colorbar": {
             "outlinewidth": 0,
             "ticks": ""
            },
            "type": "contourcarpet"
           }
          ],
          "heatmap": [
           {
            "colorbar": {
             "outlinewidth": 0,
             "ticks": ""
            },
            "colorscale": [
             [
              0,
              "#0d0887"
             ],
             [
              0.1111111111111111,
              "#46039f"
             ],
             [
              0.2222222222222222,
              "#7201a8"
             ],
             [
              0.3333333333333333,
              "#9c179e"
             ],
             [
              0.4444444444444444,
              "#bd3786"
             ],
             [
              0.5555555555555556,
              "#d8576b"
             ],
             [
              0.6666666666666666,
              "#ed7953"
             ],
             [
              0.7777777777777778,
              "#fb9f3a"
             ],
             [
              0.8888888888888888,
              "#fdca26"
             ],
             [
              1,
              "#f0f921"
             ]
            ],
            "type": "heatmap"
           }
          ],
          "heatmapgl": [
           {
            "colorbar": {
             "outlinewidth": 0,
             "ticks": ""
            },
            "colorscale": [
             [
              0,
              "#0d0887"
             ],
             [
              0.1111111111111111,
              "#46039f"
             ],
             [
              0.2222222222222222,
              "#7201a8"
             ],
             [
              0.3333333333333333,
              "#9c179e"
             ],
             [
              0.4444444444444444,
              "#bd3786"
             ],
             [
              0.5555555555555556,
              "#d8576b"
             ],
             [
              0.6666666666666666,
              "#ed7953"
             ],
             [
              0.7777777777777778,
              "#fb9f3a"
             ],
             [
              0.8888888888888888,
              "#fdca26"
             ],
             [
              1,
              "#f0f921"
             ]
            ],
            "type": "heatmapgl"
           }
          ],
          "histogram": [
           {
            "marker": {
             "pattern": {
              "fillmode": "overlay",
              "size": 10,
              "solidity": 0.2
             }
            },
            "type": "histogram"
           }
          ],
          "histogram2d": [
           {
            "colorbar": {
             "outlinewidth": 0,
             "ticks": ""
            },
            "colorscale": [
             [
              0,
              "#0d0887"
             ],
             [
              0.1111111111111111,
              "#46039f"
             ],
             [
              0.2222222222222222,
              "#7201a8"
             ],
             [
              0.3333333333333333,
              "#9c179e"
             ],
             [
              0.4444444444444444,
              "#bd3786"
             ],
             [
              0.5555555555555556,
              "#d8576b"
             ],
             [
              0.6666666666666666,
              "#ed7953"
             ],
             [
              0.7777777777777778,
              "#fb9f3a"
             ],
             [
              0.8888888888888888,
              "#fdca26"
             ],
             [
              1,
              "#f0f921"
             ]
            ],
            "type": "histogram2d"
           }
          ],
          "histogram2dcontour": [
           {
            "colorbar": {
             "outlinewidth": 0,
             "ticks": ""
            },
            "colorscale": [
             [
              0,
              "#0d0887"
             ],
             [
              0.1111111111111111,
              "#46039f"
             ],
             [
              0.2222222222222222,
              "#7201a8"
             ],
             [
              0.3333333333333333,
              "#9c179e"
             ],
             [
              0.4444444444444444,
              "#bd3786"
             ],
             [
              0.5555555555555556,
              "#d8576b"
             ],
             [
              0.6666666666666666,
              "#ed7953"
             ],
             [
              0.7777777777777778,
              "#fb9f3a"
             ],
             [
              0.8888888888888888,
              "#fdca26"
             ],
             [
              1,
              "#f0f921"
             ]
            ],
            "type": "histogram2dcontour"
           }
          ],
          "mesh3d": [
           {
            "colorbar": {
             "outlinewidth": 0,
             "ticks": ""
            },
            "type": "mesh3d"
           }
          ],
          "parcoords": [
           {
            "line": {
             "colorbar": {
              "outlinewidth": 0,
              "ticks": ""
             }
            },
            "type": "parcoords"
           }
          ],
          "pie": [
           {
            "automargin": true,
            "type": "pie"
           }
          ],
          "scatter": [
           {
            "fillpattern": {
             "fillmode": "overlay",
             "size": 10,
             "solidity": 0.2
            },
            "type": "scatter"
           }
          ],
          "scatter3d": [
           {
            "line": {
             "colorbar": {
              "outlinewidth": 0,
              "ticks": ""
             }
            },
            "marker": {
             "colorbar": {
              "outlinewidth": 0,
              "ticks": ""
             }
            },
            "type": "scatter3d"
           }
          ],
          "scattercarpet": [
           {
            "marker": {
             "colorbar": {
              "outlinewidth": 0,
              "ticks": ""
             }
            },
            "type": "scattercarpet"
           }
          ],
          "scattergeo": [
           {
            "marker": {
             "colorbar": {
              "outlinewidth": 0,
              "ticks": ""
             }
            },
            "type": "scattergeo"
           }
          ],
          "scattergl": [
           {
            "marker": {
             "colorbar": {
              "outlinewidth": 0,
              "ticks": ""
             }
            },
            "type": "scattergl"
           }
          ],
          "scattermapbox": [
           {
            "marker": {
             "colorbar": {
              "outlinewidth": 0,
              "ticks": ""
             }
            },
            "type": "scattermapbox"
           }
          ],
          "scatterpolar": [
           {
            "marker": {
             "colorbar": {
              "outlinewidth": 0,
              "ticks": ""
             }
            },
            "type": "scatterpolar"
           }
          ],
          "scatterpolargl": [
           {
            "marker": {
             "colorbar": {
              "outlinewidth": 0,
              "ticks": ""
             }
            },
            "type": "scatterpolargl"
           }
          ],
          "scatterternary": [
           {
            "marker": {
             "colorbar": {
              "outlinewidth": 0,
              "ticks": ""
             }
            },
            "type": "scatterternary"
           }
          ],
          "surface": [
           {
            "colorbar": {
             "outlinewidth": 0,
             "ticks": ""
            },
            "colorscale": [
             [
              0,
              "#0d0887"
             ],
             [
              0.1111111111111111,
              "#46039f"
             ],
             [
              0.2222222222222222,
              "#7201a8"
             ],
             [
              0.3333333333333333,
              "#9c179e"
             ],
             [
              0.4444444444444444,
              "#bd3786"
             ],
             [
              0.5555555555555556,
              "#d8576b"
             ],
             [
              0.6666666666666666,
              "#ed7953"
             ],
             [
              0.7777777777777778,
              "#fb9f3a"
             ],
             [
              0.8888888888888888,
              "#fdca26"
             ],
             [
              1,
              "#f0f921"
             ]
            ],
            "type": "surface"
           }
          ],
          "table": [
           {
            "cells": {
             "fill": {
              "color": "#EBF0F8"
             },
             "line": {
              "color": "white"
             }
            },
            "header": {
             "fill": {
              "color": "#C8D4E3"
             },
             "line": {
              "color": "white"
             }
            },
            "type": "table"
           }
          ]
         },
         "layout": {
          "annotationdefaults": {
           "arrowcolor": "#2a3f5f",
           "arrowhead": 0,
           "arrowwidth": 1
          },
          "autotypenumbers": "strict",
          "coloraxis": {
           "colorbar": {
            "outlinewidth": 0,
            "ticks": ""
           }
          },
          "colorscale": {
           "diverging": [
            [
             0,
             "#8e0152"
            ],
            [
             0.1,
             "#c51b7d"
            ],
            [
             0.2,
             "#de77ae"
            ],
            [
             0.3,
             "#f1b6da"
            ],
            [
             0.4,
             "#fde0ef"
            ],
            [
             0.5,
             "#f7f7f7"
            ],
            [
             0.6,
             "#e6f5d0"
            ],
            [
             0.7,
             "#b8e186"
            ],
            [
             0.8,
             "#7fbc41"
            ],
            [
             0.9,
             "#4d9221"
            ],
            [
             1,
             "#276419"
            ]
           ],
           "sequential": [
            [
             0,
             "#0d0887"
            ],
            [
             0.1111111111111111,
             "#46039f"
            ],
            [
             0.2222222222222222,
             "#7201a8"
            ],
            [
             0.3333333333333333,
             "#9c179e"
            ],
            [
             0.4444444444444444,
             "#bd3786"
            ],
            [
             0.5555555555555556,
             "#d8576b"
            ],
            [
             0.6666666666666666,
             "#ed7953"
            ],
            [
             0.7777777777777778,
             "#fb9f3a"
            ],
            [
             0.8888888888888888,
             "#fdca26"
            ],
            [
             1,
             "#f0f921"
            ]
           ],
           "sequentialminus": [
            [
             0,
             "#0d0887"
            ],
            [
             0.1111111111111111,
             "#46039f"
            ],
            [
             0.2222222222222222,
             "#7201a8"
            ],
            [
             0.3333333333333333,
             "#9c179e"
            ],
            [
             0.4444444444444444,
             "#bd3786"
            ],
            [
             0.5555555555555556,
             "#d8576b"
            ],
            [
             0.6666666666666666,
             "#ed7953"
            ],
            [
             0.7777777777777778,
             "#fb9f3a"
            ],
            [
             0.8888888888888888,
             "#fdca26"
            ],
            [
             1,
             "#f0f921"
            ]
           ]
          },
          "colorway": [
           "#636efa",
           "#EF553B",
           "#00cc96",
           "#ab63fa",
           "#FFA15A",
           "#19d3f3",
           "#FF6692",
           "#B6E880",
           "#FF97FF",
           "#FECB52"
          ],
          "font": {
           "color": "#2a3f5f"
          },
          "geo": {
           "bgcolor": "white",
           "lakecolor": "white",
           "landcolor": "#E5ECF6",
           "showlakes": true,
           "showland": true,
           "subunitcolor": "white"
          },
          "hoverlabel": {
           "align": "left"
          },
          "hovermode": "closest",
          "mapbox": {
           "style": "light"
          },
          "paper_bgcolor": "white",
          "plot_bgcolor": "#E5ECF6",
          "polar": {
           "angularaxis": {
            "gridcolor": "white",
            "linecolor": "white",
            "ticks": ""
           },
           "bgcolor": "#E5ECF6",
           "radialaxis": {
            "gridcolor": "white",
            "linecolor": "white",
            "ticks": ""
           }
          },
          "scene": {
           "xaxis": {
            "backgroundcolor": "#E5ECF6",
            "gridcolor": "white",
            "gridwidth": 2,
            "linecolor": "white",
            "showbackground": true,
            "ticks": "",
            "zerolinecolor": "white"
           },
           "yaxis": {
            "backgroundcolor": "#E5ECF6",
            "gridcolor": "white",
            "gridwidth": 2,
            "linecolor": "white",
            "showbackground": true,
            "ticks": "",
            "zerolinecolor": "white"
           },
           "zaxis": {
            "backgroundcolor": "#E5ECF6",
            "gridcolor": "white",
            "gridwidth": 2,
            "linecolor": "white",
            "showbackground": true,
            "ticks": "",
            "zerolinecolor": "white"
           }
          },
          "shapedefaults": {
           "line": {
            "color": "#2a3f5f"
           }
          },
          "ternary": {
           "aaxis": {
            "gridcolor": "white",
            "linecolor": "white",
            "ticks": ""
           },
           "baxis": {
            "gridcolor": "white",
            "linecolor": "white",
            "ticks": ""
           },
           "bgcolor": "#E5ECF6",
           "caxis": {
            "gridcolor": "white",
            "linecolor": "white",
            "ticks": ""
           }
          },
          "title": {
           "x": 0.05
          },
          "xaxis": {
           "automargin": true,
           "gridcolor": "white",
           "linecolor": "white",
           "ticks": "",
           "title": {
            "standoff": 15
           },
           "zerolinecolor": "white",
           "zerolinewidth": 2
          },
          "yaxis": {
           "automargin": true,
           "gridcolor": "white",
           "linecolor": "white",
           "ticks": "",
           "title": {
            "standoff": 15
           },
           "zerolinecolor": "white",
           "zerolinewidth": 2
          }
         }
        }
       }
      }
     },
     "metadata": {},
     "output_type": "display_data"
    }
   ],
   "source": [
    "import plotly.express as px\n",
    "# fig = px.treemap(short_df, path=[short_df.columns], values=short_df.values.flatten())\n",
    "fig = px.treemap(short_df, path=[short_df.columns], values=short_df.select_dtypes(include=['float64', 'int64']).values.flatten())\n",
    "fig.update_traces(root_color=\"lightgrey\", marker=dict(cornerradius=5))\n",
    "fig.update_layout(margin = dict(t=50, l=25, r=25, b=25))\n",
    "fig.show()"
   ]
  },
  {
   "cell_type": "code",
   "execution_count": 273,
   "metadata": {},
   "outputs": [
    {
     "data": {
      "application/vnd.plotly.v1+json": {
       "config": {
        "plotlyServerURL": "https://plot.ly"
       },
       "data": [
        {
         "branchvalues": "total",
         "domain": {
          "x": [
           0,
           1
          ],
          "y": [
           0,
           1
          ]
         },
         "hovertemplate": "labels=%{label}<br>value=%{value}<br>parent=%{parent}<br>id=%{id}<extra></extra>",
         "ids": [
          "alt z",
          "chicago rap",
          "edm",
          "hip hop",
          "indie pop rap",
          "melodic rap",
          "other",
          "pop dance",
          "pop rap",
          "rap",
          "trap"
         ],
         "labels": [
          "alt z",
          "chicago rap",
          "edm",
          "hip hop",
          "indie pop rap",
          "melodic rap",
          "other",
          "pop dance",
          "pop rap",
          "rap",
          "trap"
         ],
         "marker": {
          "cornerradius": 5
         },
         "name": "",
         "parents": [
          "",
          "",
          "",
          "",
          "",
          "",
          "",
          "",
          "",
          "",
          ""
         ],
         "root": {
          "color": "lightgrey"
         },
         "type": "treemap",
         "values": [
          2.17,
          2.17,
          2.9,
          6.52,
          2.9,
          10.14,
          43.34,
          2.9,
          5.07,
          15.22,
          6.52
         ]
        }
       ],
       "layout": {
        "legend": {
         "tracegroupgap": 0
        },
        "margin": {
         "b": 25,
         "l": 25,
         "r": 25,
         "t": 50
        },
        "template": {
         "data": {
          "bar": [
           {
            "error_x": {
             "color": "#2a3f5f"
            },
            "error_y": {
             "color": "#2a3f5f"
            },
            "marker": {
             "line": {
              "color": "#E5ECF6",
              "width": 0.5
             },
             "pattern": {
              "fillmode": "overlay",
              "size": 10,
              "solidity": 0.2
             }
            },
            "type": "bar"
           }
          ],
          "barpolar": [
           {
            "marker": {
             "line": {
              "color": "#E5ECF6",
              "width": 0.5
             },
             "pattern": {
              "fillmode": "overlay",
              "size": 10,
              "solidity": 0.2
             }
            },
            "type": "barpolar"
           }
          ],
          "carpet": [
           {
            "aaxis": {
             "endlinecolor": "#2a3f5f",
             "gridcolor": "white",
             "linecolor": "white",
             "minorgridcolor": "white",
             "startlinecolor": "#2a3f5f"
            },
            "baxis": {
             "endlinecolor": "#2a3f5f",
             "gridcolor": "white",
             "linecolor": "white",
             "minorgridcolor": "white",
             "startlinecolor": "#2a3f5f"
            },
            "type": "carpet"
           }
          ],
          "choropleth": [
           {
            "colorbar": {
             "outlinewidth": 0,
             "ticks": ""
            },
            "type": "choropleth"
           }
          ],
          "contour": [
           {
            "colorbar": {
             "outlinewidth": 0,
             "ticks": ""
            },
            "colorscale": [
             [
              0,
              "#0d0887"
             ],
             [
              0.1111111111111111,
              "#46039f"
             ],
             [
              0.2222222222222222,
              "#7201a8"
             ],
             [
              0.3333333333333333,
              "#9c179e"
             ],
             [
              0.4444444444444444,
              "#bd3786"
             ],
             [
              0.5555555555555556,
              "#d8576b"
             ],
             [
              0.6666666666666666,
              "#ed7953"
             ],
             [
              0.7777777777777778,
              "#fb9f3a"
             ],
             [
              0.8888888888888888,
              "#fdca26"
             ],
             [
              1,
              "#f0f921"
             ]
            ],
            "type": "contour"
           }
          ],
          "contourcarpet": [
           {
            "colorbar": {
             "outlinewidth": 0,
             "ticks": ""
            },
            "type": "contourcarpet"
           }
          ],
          "heatmap": [
           {
            "colorbar": {
             "outlinewidth": 0,
             "ticks": ""
            },
            "colorscale": [
             [
              0,
              "#0d0887"
             ],
             [
              0.1111111111111111,
              "#46039f"
             ],
             [
              0.2222222222222222,
              "#7201a8"
             ],
             [
              0.3333333333333333,
              "#9c179e"
             ],
             [
              0.4444444444444444,
              "#bd3786"
             ],
             [
              0.5555555555555556,
              "#d8576b"
             ],
             [
              0.6666666666666666,
              "#ed7953"
             ],
             [
              0.7777777777777778,
              "#fb9f3a"
             ],
             [
              0.8888888888888888,
              "#fdca26"
             ],
             [
              1,
              "#f0f921"
             ]
            ],
            "type": "heatmap"
           }
          ],
          "heatmapgl": [
           {
            "colorbar": {
             "outlinewidth": 0,
             "ticks": ""
            },
            "colorscale": [
             [
              0,
              "#0d0887"
             ],
             [
              0.1111111111111111,
              "#46039f"
             ],
             [
              0.2222222222222222,
              "#7201a8"
             ],
             [
              0.3333333333333333,
              "#9c179e"
             ],
             [
              0.4444444444444444,
              "#bd3786"
             ],
             [
              0.5555555555555556,
              "#d8576b"
             ],
             [
              0.6666666666666666,
              "#ed7953"
             ],
             [
              0.7777777777777778,
              "#fb9f3a"
             ],
             [
              0.8888888888888888,
              "#fdca26"
             ],
             [
              1,
              "#f0f921"
             ]
            ],
            "type": "heatmapgl"
           }
          ],
          "histogram": [
           {
            "marker": {
             "pattern": {
              "fillmode": "overlay",
              "size": 10,
              "solidity": 0.2
             }
            },
            "type": "histogram"
           }
          ],
          "histogram2d": [
           {
            "colorbar": {
             "outlinewidth": 0,
             "ticks": ""
            },
            "colorscale": [
             [
              0,
              "#0d0887"
             ],
             [
              0.1111111111111111,
              "#46039f"
             ],
             [
              0.2222222222222222,
              "#7201a8"
             ],
             [
              0.3333333333333333,
              "#9c179e"
             ],
             [
              0.4444444444444444,
              "#bd3786"
             ],
             [
              0.5555555555555556,
              "#d8576b"
             ],
             [
              0.6666666666666666,
              "#ed7953"
             ],
             [
              0.7777777777777778,
              "#fb9f3a"
             ],
             [
              0.8888888888888888,
              "#fdca26"
             ],
             [
              1,
              "#f0f921"
             ]
            ],
            "type": "histogram2d"
           }
          ],
          "histogram2dcontour": [
           {
            "colorbar": {
             "outlinewidth": 0,
             "ticks": ""
            },
            "colorscale": [
             [
              0,
              "#0d0887"
             ],
             [
              0.1111111111111111,
              "#46039f"
             ],
             [
              0.2222222222222222,
              "#7201a8"
             ],
             [
              0.3333333333333333,
              "#9c179e"
             ],
             [
              0.4444444444444444,
              "#bd3786"
             ],
             [
              0.5555555555555556,
              "#d8576b"
             ],
             [
              0.6666666666666666,
              "#ed7953"
             ],
             [
              0.7777777777777778,
              "#fb9f3a"
             ],
             [
              0.8888888888888888,
              "#fdca26"
             ],
             [
              1,
              "#f0f921"
             ]
            ],
            "type": "histogram2dcontour"
           }
          ],
          "mesh3d": [
           {
            "colorbar": {
             "outlinewidth": 0,
             "ticks": ""
            },
            "type": "mesh3d"
           }
          ],
          "parcoords": [
           {
            "line": {
             "colorbar": {
              "outlinewidth": 0,
              "ticks": ""
             }
            },
            "type": "parcoords"
           }
          ],
          "pie": [
           {
            "automargin": true,
            "type": "pie"
           }
          ],
          "scatter": [
           {
            "fillpattern": {
             "fillmode": "overlay",
             "size": 10,
             "solidity": 0.2
            },
            "type": "scatter"
           }
          ],
          "scatter3d": [
           {
            "line": {
             "colorbar": {
              "outlinewidth": 0,
              "ticks": ""
             }
            },
            "marker": {
             "colorbar": {
              "outlinewidth": 0,
              "ticks": ""
             }
            },
            "type": "scatter3d"
           }
          ],
          "scattercarpet": [
           {
            "marker": {
             "colorbar": {
              "outlinewidth": 0,
              "ticks": ""
             }
            },
            "type": "scattercarpet"
           }
          ],
          "scattergeo": [
           {
            "marker": {
             "colorbar": {
              "outlinewidth": 0,
              "ticks": ""
             }
            },
            "type": "scattergeo"
           }
          ],
          "scattergl": [
           {
            "marker": {
             "colorbar": {
              "outlinewidth": 0,
              "ticks": ""
             }
            },
            "type": "scattergl"
           }
          ],
          "scattermapbox": [
           {
            "marker": {
             "colorbar": {
              "outlinewidth": 0,
              "ticks": ""
             }
            },
            "type": "scattermapbox"
           }
          ],
          "scatterpolar": [
           {
            "marker": {
             "colorbar": {
              "outlinewidth": 0,
              "ticks": ""
             }
            },
            "type": "scatterpolar"
           }
          ],
          "scatterpolargl": [
           {
            "marker": {
             "colorbar": {
              "outlinewidth": 0,
              "ticks": ""
             }
            },
            "type": "scatterpolargl"
           }
          ],
          "scatterternary": [
           {
            "marker": {
             "colorbar": {
              "outlinewidth": 0,
              "ticks": ""
             }
            },
            "type": "scatterternary"
           }
          ],
          "surface": [
           {
            "colorbar": {
             "outlinewidth": 0,
             "ticks": ""
            },
            "colorscale": [
             [
              0,
              "#0d0887"
             ],
             [
              0.1111111111111111,
              "#46039f"
             ],
             [
              0.2222222222222222,
              "#7201a8"
             ],
             [
              0.3333333333333333,
              "#9c179e"
             ],
             [
              0.4444444444444444,
              "#bd3786"
             ],
             [
              0.5555555555555556,
              "#d8576b"
             ],
             [
              0.6666666666666666,
              "#ed7953"
             ],
             [
              0.7777777777777778,
              "#fb9f3a"
             ],
             [
              0.8888888888888888,
              "#fdca26"
             ],
             [
              1,
              "#f0f921"
             ]
            ],
            "type": "surface"
           }
          ],
          "table": [
           {
            "cells": {
             "fill": {
              "color": "#EBF0F8"
             },
             "line": {
              "color": "white"
             }
            },
            "header": {
             "fill": {
              "color": "#C8D4E3"
             },
             "line": {
              "color": "white"
             }
            },
            "type": "table"
           }
          ]
         },
         "layout": {
          "annotationdefaults": {
           "arrowcolor": "#2a3f5f",
           "arrowhead": 0,
           "arrowwidth": 1
          },
          "autotypenumbers": "strict",
          "coloraxis": {
           "colorbar": {
            "outlinewidth": 0,
            "ticks": ""
           }
          },
          "colorscale": {
           "diverging": [
            [
             0,
             "#8e0152"
            ],
            [
             0.1,
             "#c51b7d"
            ],
            [
             0.2,
             "#de77ae"
            ],
            [
             0.3,
             "#f1b6da"
            ],
            [
             0.4,
             "#fde0ef"
            ],
            [
             0.5,
             "#f7f7f7"
            ],
            [
             0.6,
             "#e6f5d0"
            ],
            [
             0.7,
             "#b8e186"
            ],
            [
             0.8,
             "#7fbc41"
            ],
            [
             0.9,
             "#4d9221"
            ],
            [
             1,
             "#276419"
            ]
           ],
           "sequential": [
            [
             0,
             "#0d0887"
            ],
            [
             0.1111111111111111,
             "#46039f"
            ],
            [
             0.2222222222222222,
             "#7201a8"
            ],
            [
             0.3333333333333333,
             "#9c179e"
            ],
            [
             0.4444444444444444,
             "#bd3786"
            ],
            [
             0.5555555555555556,
             "#d8576b"
            ],
            [
             0.6666666666666666,
             "#ed7953"
            ],
            [
             0.7777777777777778,
             "#fb9f3a"
            ],
            [
             0.8888888888888888,
             "#fdca26"
            ],
            [
             1,
             "#f0f921"
            ]
           ],
           "sequentialminus": [
            [
             0,
             "#0d0887"
            ],
            [
             0.1111111111111111,
             "#46039f"
            ],
            [
             0.2222222222222222,
             "#7201a8"
            ],
            [
             0.3333333333333333,
             "#9c179e"
            ],
            [
             0.4444444444444444,
             "#bd3786"
            ],
            [
             0.5555555555555556,
             "#d8576b"
            ],
            [
             0.6666666666666666,
             "#ed7953"
            ],
            [
             0.7777777777777778,
             "#fb9f3a"
            ],
            [
             0.8888888888888888,
             "#fdca26"
            ],
            [
             1,
             "#f0f921"
            ]
           ]
          },
          "colorway": [
           "#636efa",
           "#EF553B",
           "#00cc96",
           "#ab63fa",
           "#FFA15A",
           "#19d3f3",
           "#FF6692",
           "#B6E880",
           "#FF97FF",
           "#FECB52"
          ],
          "font": {
           "color": "#2a3f5f"
          },
          "geo": {
           "bgcolor": "white",
           "lakecolor": "white",
           "landcolor": "#E5ECF6",
           "showlakes": true,
           "showland": true,
           "subunitcolor": "white"
          },
          "hoverlabel": {
           "align": "left"
          },
          "hovermode": "closest",
          "mapbox": {
           "style": "light"
          },
          "paper_bgcolor": "white",
          "plot_bgcolor": "#E5ECF6",
          "polar": {
           "angularaxis": {
            "gridcolor": "white",
            "linecolor": "white",
            "ticks": ""
           },
           "bgcolor": "#E5ECF6",
           "radialaxis": {
            "gridcolor": "white",
            "linecolor": "white",
            "ticks": ""
           }
          },
          "scene": {
           "xaxis": {
            "backgroundcolor": "#E5ECF6",
            "gridcolor": "white",
            "gridwidth": 2,
            "linecolor": "white",
            "showbackground": true,
            "ticks": "",
            "zerolinecolor": "white"
           },
           "yaxis": {
            "backgroundcolor": "#E5ECF6",
            "gridcolor": "white",
            "gridwidth": 2,
            "linecolor": "white",
            "showbackground": true,
            "ticks": "",
            "zerolinecolor": "white"
           },
           "zaxis": {
            "backgroundcolor": "#E5ECF6",
            "gridcolor": "white",
            "gridwidth": 2,
            "linecolor": "white",
            "showbackground": true,
            "ticks": "",
            "zerolinecolor": "white"
           }
          },
          "shapedefaults": {
           "line": {
            "color": "#2a3f5f"
           }
          },
          "ternary": {
           "aaxis": {
            "gridcolor": "white",
            "linecolor": "white",
            "ticks": ""
           },
           "baxis": {
            "gridcolor": "white",
            "linecolor": "white",
            "ticks": ""
           },
           "bgcolor": "#E5ECF6",
           "caxis": {
            "gridcolor": "white",
            "linecolor": "white",
            "ticks": ""
           }
          },
          "title": {
           "x": 0.05
          },
          "xaxis": {
           "automargin": true,
           "gridcolor": "white",
           "linecolor": "white",
           "ticks": "",
           "title": {
            "standoff": 15
           },
           "zerolinecolor": "white",
           "zerolinewidth": 2
          },
          "yaxis": {
           "automargin": true,
           "gridcolor": "white",
           "linecolor": "white",
           "ticks": "",
           "title": {
            "standoff": 15
           },
           "zerolinecolor": "white",
           "zerolinewidth": 2
          }
         }
        }
       }
      }
     },
     "metadata": {},
     "output_type": "display_data"
    }
   ],
   "source": [
    "fig = px.treemap(long_df, path=[long_df.columns], values=long_df.select_dtypes(include=['float64', 'int64']).values.flatten())\n",
    "fig.update_traces(root_color=\"lightgrey\", marker=dict(cornerradius=5))\n",
    "fig.update_layout(margin = dict(t=50, l=25, r=25, b=25))\n",
    "fig.show()"
   ]
  },
  {
   "cell_type": "code",
   "execution_count": 275,
   "metadata": {},
   "outputs": [
    {
     "data": {
      "application/vnd.plotly.v1+json": {
       "config": {
        "plotlyServerURL": "https://plot.ly"
       },
       "data": [
        {
         "domain": {
          "x": [
           0,
           0.45
          ],
          "y": [
           0,
           1
          ]
         },
         "labels": [
          "rap",
          "trap",
          "melodic rap",
          "hip hop",
          "pop rap",
          "atl hip hop",
          "chicago rap",
          "southern hip hop",
          "indie pop rap",
          "canadian hip hop",
          "other"
         ],
         "parents": [
          "Short",
          "Short",
          "Short",
          "Short",
          "Short",
          "Short",
          "Short",
          "Short",
          "Short",
          "Short",
          "Short"
         ],
         "root": {
          "color": "lightgrey"
         },
         "textinfo": "label+value",
         "type": "treemap",
         "values": [
          17.07,
          8.54,
          7.93,
          7.32,
          5.49,
          4.27,
          2.44,
          2.44,
          2.44,
          1.83,
          40.26
         ]
        },
        {
         "domain": {
          "x": [
           0.55,
           1
          ],
          "y": [
           0,
           1
          ]
         },
         "labels": [
          "rap",
          "melodic rap",
          "trap",
          "hip hop",
          "pop rap",
          "edm",
          "pop dance",
          "indie pop rap",
          "chicago rap",
          "alt z",
          "other"
         ],
         "parents": [
          "Long",
          "Long",
          "Long",
          "Long",
          "Long",
          "Long",
          "Long",
          "Long",
          "Long",
          "Long",
          "Long"
         ],
         "root": {
          "color": "lightgrey"
         },
         "textinfo": "label+value",
         "type": "treemap",
         "values": [
          15.22,
          10.14,
          6.52,
          6.52,
          5.07,
          2.9,
          2.9,
          2.9,
          2.17,
          2.17,
          43.34
         ]
        }
       ],
       "layout": {
        "annotations": [
         {
          "font": {
           "size": 16
          },
          "showarrow": false,
          "text": "Short term Artist Genre Stats",
          "x": 0.225,
          "xanchor": "center",
          "xref": "paper",
          "y": 1,
          "yanchor": "bottom",
          "yref": "paper"
         },
         {
          "font": {
           "size": 16
          },
          "showarrow": false,
          "text": "Long term Artist Genre Stats",
          "x": 0.775,
          "xanchor": "center",
          "xref": "paper",
          "y": 1,
          "yanchor": "bottom",
          "yref": "paper"
         }
        ],
        "margin": {
         "b": 25,
         "l": 25,
         "r": 25,
         "t": 50
        },
        "template": {
         "data": {
          "bar": [
           {
            "error_x": {
             "color": "#2a3f5f"
            },
            "error_y": {
             "color": "#2a3f5f"
            },
            "marker": {
             "line": {
              "color": "#E5ECF6",
              "width": 0.5
             },
             "pattern": {
              "fillmode": "overlay",
              "size": 10,
              "solidity": 0.2
             }
            },
            "type": "bar"
           }
          ],
          "barpolar": [
           {
            "marker": {
             "line": {
              "color": "#E5ECF6",
              "width": 0.5
             },
             "pattern": {
              "fillmode": "overlay",
              "size": 10,
              "solidity": 0.2
             }
            },
            "type": "barpolar"
           }
          ],
          "carpet": [
           {
            "aaxis": {
             "endlinecolor": "#2a3f5f",
             "gridcolor": "white",
             "linecolor": "white",
             "minorgridcolor": "white",
             "startlinecolor": "#2a3f5f"
            },
            "baxis": {
             "endlinecolor": "#2a3f5f",
             "gridcolor": "white",
             "linecolor": "white",
             "minorgridcolor": "white",
             "startlinecolor": "#2a3f5f"
            },
            "type": "carpet"
           }
          ],
          "choropleth": [
           {
            "colorbar": {
             "outlinewidth": 0,
             "ticks": ""
            },
            "type": "choropleth"
           }
          ],
          "contour": [
           {
            "colorbar": {
             "outlinewidth": 0,
             "ticks": ""
            },
            "colorscale": [
             [
              0,
              "#0d0887"
             ],
             [
              0.1111111111111111,
              "#46039f"
             ],
             [
              0.2222222222222222,
              "#7201a8"
             ],
             [
              0.3333333333333333,
              "#9c179e"
             ],
             [
              0.4444444444444444,
              "#bd3786"
             ],
             [
              0.5555555555555556,
              "#d8576b"
             ],
             [
              0.6666666666666666,
              "#ed7953"
             ],
             [
              0.7777777777777778,
              "#fb9f3a"
             ],
             [
              0.8888888888888888,
              "#fdca26"
             ],
             [
              1,
              "#f0f921"
             ]
            ],
            "type": "contour"
           }
          ],
          "contourcarpet": [
           {
            "colorbar": {
             "outlinewidth": 0,
             "ticks": ""
            },
            "type": "contourcarpet"
           }
          ],
          "heatmap": [
           {
            "colorbar": {
             "outlinewidth": 0,
             "ticks": ""
            },
            "colorscale": [
             [
              0,
              "#0d0887"
             ],
             [
              0.1111111111111111,
              "#46039f"
             ],
             [
              0.2222222222222222,
              "#7201a8"
             ],
             [
              0.3333333333333333,
              "#9c179e"
             ],
             [
              0.4444444444444444,
              "#bd3786"
             ],
             [
              0.5555555555555556,
              "#d8576b"
             ],
             [
              0.6666666666666666,
              "#ed7953"
             ],
             [
              0.7777777777777778,
              "#fb9f3a"
             ],
             [
              0.8888888888888888,
              "#fdca26"
             ],
             [
              1,
              "#f0f921"
             ]
            ],
            "type": "heatmap"
           }
          ],
          "heatmapgl": [
           {
            "colorbar": {
             "outlinewidth": 0,
             "ticks": ""
            },
            "colorscale": [
             [
              0,
              "#0d0887"
             ],
             [
              0.1111111111111111,
              "#46039f"
             ],
             [
              0.2222222222222222,
              "#7201a8"
             ],
             [
              0.3333333333333333,
              "#9c179e"
             ],
             [
              0.4444444444444444,
              "#bd3786"
             ],
             [
              0.5555555555555556,
              "#d8576b"
             ],
             [
              0.6666666666666666,
              "#ed7953"
             ],
             [
              0.7777777777777778,
              "#fb9f3a"
             ],
             [
              0.8888888888888888,
              "#fdca26"
             ],
             [
              1,
              "#f0f921"
             ]
            ],
            "type": "heatmapgl"
           }
          ],
          "histogram": [
           {
            "marker": {
             "pattern": {
              "fillmode": "overlay",
              "size": 10,
              "solidity": 0.2
             }
            },
            "type": "histogram"
           }
          ],
          "histogram2d": [
           {
            "colorbar": {
             "outlinewidth": 0,
             "ticks": ""
            },
            "colorscale": [
             [
              0,
              "#0d0887"
             ],
             [
              0.1111111111111111,
              "#46039f"
             ],
             [
              0.2222222222222222,
              "#7201a8"
             ],
             [
              0.3333333333333333,
              "#9c179e"
             ],
             [
              0.4444444444444444,
              "#bd3786"
             ],
             [
              0.5555555555555556,
              "#d8576b"
             ],
             [
              0.6666666666666666,
              "#ed7953"
             ],
             [
              0.7777777777777778,
              "#fb9f3a"
             ],
             [
              0.8888888888888888,
              "#fdca26"
             ],
             [
              1,
              "#f0f921"
             ]
            ],
            "type": "histogram2d"
           }
          ],
          "histogram2dcontour": [
           {
            "colorbar": {
             "outlinewidth": 0,
             "ticks": ""
            },
            "colorscale": [
             [
              0,
              "#0d0887"
             ],
             [
              0.1111111111111111,
              "#46039f"
             ],
             [
              0.2222222222222222,
              "#7201a8"
             ],
             [
              0.3333333333333333,
              "#9c179e"
             ],
             [
              0.4444444444444444,
              "#bd3786"
             ],
             [
              0.5555555555555556,
              "#d8576b"
             ],
             [
              0.6666666666666666,
              "#ed7953"
             ],
             [
              0.7777777777777778,
              "#fb9f3a"
             ],
             [
              0.8888888888888888,
              "#fdca26"
             ],
             [
              1,
              "#f0f921"
             ]
            ],
            "type": "histogram2dcontour"
           }
          ],
          "mesh3d": [
           {
            "colorbar": {
             "outlinewidth": 0,
             "ticks": ""
            },
            "type": "mesh3d"
           }
          ],
          "parcoords": [
           {
            "line": {
             "colorbar": {
              "outlinewidth": 0,
              "ticks": ""
             }
            },
            "type": "parcoords"
           }
          ],
          "pie": [
           {
            "automargin": true,
            "type": "pie"
           }
          ],
          "scatter": [
           {
            "fillpattern": {
             "fillmode": "overlay",
             "size": 10,
             "solidity": 0.2
            },
            "type": "scatter"
           }
          ],
          "scatter3d": [
           {
            "line": {
             "colorbar": {
              "outlinewidth": 0,
              "ticks": ""
             }
            },
            "marker": {
             "colorbar": {
              "outlinewidth": 0,
              "ticks": ""
             }
            },
            "type": "scatter3d"
           }
          ],
          "scattercarpet": [
           {
            "marker": {
             "colorbar": {
              "outlinewidth": 0,
              "ticks": ""
             }
            },
            "type": "scattercarpet"
           }
          ],
          "scattergeo": [
           {
            "marker": {
             "colorbar": {
              "outlinewidth": 0,
              "ticks": ""
             }
            },
            "type": "scattergeo"
           }
          ],
          "scattergl": [
           {
            "marker": {
             "colorbar": {
              "outlinewidth": 0,
              "ticks": ""
             }
            },
            "type": "scattergl"
           }
          ],
          "scattermapbox": [
           {
            "marker": {
             "colorbar": {
              "outlinewidth": 0,
              "ticks": ""
             }
            },
            "type": "scattermapbox"
           }
          ],
          "scatterpolar": [
           {
            "marker": {
             "colorbar": {
              "outlinewidth": 0,
              "ticks": ""
             }
            },
            "type": "scatterpolar"
           }
          ],
          "scatterpolargl": [
           {
            "marker": {
             "colorbar": {
              "outlinewidth": 0,
              "ticks": ""
             }
            },
            "type": "scatterpolargl"
           }
          ],
          "scatterternary": [
           {
            "marker": {
             "colorbar": {
              "outlinewidth": 0,
              "ticks": ""
             }
            },
            "type": "scatterternary"
           }
          ],
          "surface": [
           {
            "colorbar": {
             "outlinewidth": 0,
             "ticks": ""
            },
            "colorscale": [
             [
              0,
              "#0d0887"
             ],
             [
              0.1111111111111111,
              "#46039f"
             ],
             [
              0.2222222222222222,
              "#7201a8"
             ],
             [
              0.3333333333333333,
              "#9c179e"
             ],
             [
              0.4444444444444444,
              "#bd3786"
             ],
             [
              0.5555555555555556,
              "#d8576b"
             ],
             [
              0.6666666666666666,
              "#ed7953"
             ],
             [
              0.7777777777777778,
              "#fb9f3a"
             ],
             [
              0.8888888888888888,
              "#fdca26"
             ],
             [
              1,
              "#f0f921"
             ]
            ],
            "type": "surface"
           }
          ],
          "table": [
           {
            "cells": {
             "fill": {
              "color": "#EBF0F8"
             },
             "line": {
              "color": "white"
             }
            },
            "header": {
             "fill": {
              "color": "#C8D4E3"
             },
             "line": {
              "color": "white"
             }
            },
            "type": "table"
           }
          ]
         },
         "layout": {
          "annotationdefaults": {
           "arrowcolor": "#2a3f5f",
           "arrowhead": 0,
           "arrowwidth": 1
          },
          "autotypenumbers": "strict",
          "coloraxis": {
           "colorbar": {
            "outlinewidth": 0,
            "ticks": ""
           }
          },
          "colorscale": {
           "diverging": [
            [
             0,
             "#8e0152"
            ],
            [
             0.1,
             "#c51b7d"
            ],
            [
             0.2,
             "#de77ae"
            ],
            [
             0.3,
             "#f1b6da"
            ],
            [
             0.4,
             "#fde0ef"
            ],
            [
             0.5,
             "#f7f7f7"
            ],
            [
             0.6,
             "#e6f5d0"
            ],
            [
             0.7,
             "#b8e186"
            ],
            [
             0.8,
             "#7fbc41"
            ],
            [
             0.9,
             "#4d9221"
            ],
            [
             1,
             "#276419"
            ]
           ],
           "sequential": [
            [
             0,
             "#0d0887"
            ],
            [
             0.1111111111111111,
             "#46039f"
            ],
            [
             0.2222222222222222,
             "#7201a8"
            ],
            [
             0.3333333333333333,
             "#9c179e"
            ],
            [
             0.4444444444444444,
             "#bd3786"
            ],
            [
             0.5555555555555556,
             "#d8576b"
            ],
            [
             0.6666666666666666,
             "#ed7953"
            ],
            [
             0.7777777777777778,
             "#fb9f3a"
            ],
            [
             0.8888888888888888,
             "#fdca26"
            ],
            [
             1,
             "#f0f921"
            ]
           ],
           "sequentialminus": [
            [
             0,
             "#0d0887"
            ],
            [
             0.1111111111111111,
             "#46039f"
            ],
            [
             0.2222222222222222,
             "#7201a8"
            ],
            [
             0.3333333333333333,
             "#9c179e"
            ],
            [
             0.4444444444444444,
             "#bd3786"
            ],
            [
             0.5555555555555556,
             "#d8576b"
            ],
            [
             0.6666666666666666,
             "#ed7953"
            ],
            [
             0.7777777777777778,
             "#fb9f3a"
            ],
            [
             0.8888888888888888,
             "#fdca26"
            ],
            [
             1,
             "#f0f921"
            ]
           ]
          },
          "colorway": [
           "#636efa",
           "#EF553B",
           "#00cc96",
           "#ab63fa",
           "#FFA15A",
           "#19d3f3",
           "#FF6692",
           "#B6E880",
           "#FF97FF",
           "#FECB52"
          ],
          "font": {
           "color": "#2a3f5f"
          },
          "geo": {
           "bgcolor": "white",
           "lakecolor": "white",
           "landcolor": "#E5ECF6",
           "showlakes": true,
           "showland": true,
           "subunitcolor": "white"
          },
          "hoverlabel": {
           "align": "left"
          },
          "hovermode": "closest",
          "mapbox": {
           "style": "light"
          },
          "paper_bgcolor": "white",
          "plot_bgcolor": "#E5ECF6",
          "polar": {
           "angularaxis": {
            "gridcolor": "white",
            "linecolor": "white",
            "ticks": ""
           },
           "bgcolor": "#E5ECF6",
           "radialaxis": {
            "gridcolor": "white",
            "linecolor": "white",
            "ticks": ""
           }
          },
          "scene": {
           "xaxis": {
            "backgroundcolor": "#E5ECF6",
            "gridcolor": "white",
            "gridwidth": 2,
            "linecolor": "white",
            "showbackground": true,
            "ticks": "",
            "zerolinecolor": "white"
           },
           "yaxis": {
            "backgroundcolor": "#E5ECF6",
            "gridcolor": "white",
            "gridwidth": 2,
            "linecolor": "white",
            "showbackground": true,
            "ticks": "",
            "zerolinecolor": "white"
           },
           "zaxis": {
            "backgroundcolor": "#E5ECF6",
            "gridcolor": "white",
            "gridwidth": 2,
            "linecolor": "white",
            "showbackground": true,
            "ticks": "",
            "zerolinecolor": "white"
           }
          },
          "shapedefaults": {
           "line": {
            "color": "#2a3f5f"
           }
          },
          "ternary": {
           "aaxis": {
            "gridcolor": "white",
            "linecolor": "white",
            "ticks": ""
           },
           "baxis": {
            "gridcolor": "white",
            "linecolor": "white",
            "ticks": ""
           },
           "bgcolor": "#E5ECF6",
           "caxis": {
            "gridcolor": "white",
            "linecolor": "white",
            "ticks": ""
           }
          },
          "title": {
           "x": 0.05
          },
          "xaxis": {
           "automargin": true,
           "gridcolor": "white",
           "linecolor": "white",
           "ticks": "",
           "title": {
            "standoff": 15
           },
           "zerolinecolor": "white",
           "zerolinewidth": 2
          },
          "yaxis": {
           "automargin": true,
           "gridcolor": "white",
           "linecolor": "white",
           "ticks": "",
           "title": {
            "standoff": 15
           },
           "zerolinecolor": "white",
           "zerolinewidth": 2
          }
         }
        }
       }
      }
     },
     "metadata": {},
     "output_type": "display_data"
    }
   ],
   "source": [
    "import plotly.graph_objects as go\n",
    "from plotly.subplots import make_subplots\n",
    "\n",
    "fig = make_subplots(\n",
    "    cols = 2, rows = 1,\n",
    "    column_widths = [0.4, 0.4],\n",
    "    subplot_titles = (\"Short term Artist Genre Stats\" ,\"Long term Artist Genre Stats\"),\n",
    "    specs = [[{'type': 'treemap', 'rowspan': 1}, {'type': 'treemap'}]]\n",
    ")\n",
    "\n",
    "fig.add_trace(go.Treemap(\n",
    "    labels = short_df.columns,\n",
    "    parents=[\"Short\", \"Short\", \"Short\", \"Short\", \"Short\", \"Short\", \"Short\", \"Short\", \"Short\", \"Short\", \"Short\"],\n",
    "    values = short_df.values.flatten(),\n",
    "    textinfo = \"label+value\",\n",
    "    root_color=\"lightgrey\"\n",
    "),row = 1, col = 1)\n",
    "\n",
    "fig.add_trace(go.Treemap(\n",
    "    labels = long_df.columns,\n",
    "    parents=[\"Long\", \"Long\", \"Long\", \"Long\", \"Long\", \"Long\", \"Long\", \"Long\", \"Long\", \"Long\", \"Long\"],\n",
    "    values = long_df.values.flatten(),\n",
    "    textinfo = \"label+value\",\n",
    "    root_color=\"lightgrey\"\n",
    "),row = 1, col = 2)\n",
    "\n",
    "fig.update_layout(margin = dict(t=50, l=25, r=25, b=25))\n",
    "fig.show()"
   ]
  },
  {
   "cell_type": "code",
   "execution_count": 260,
   "metadata": {},
   "outputs": [
    {
     "data": {
      "text/plain": [
       "Index(['rap', 'trap', 'melodic rap', 'hip hop', 'pop rap', 'other'], dtype='object')"
      ]
     },
     "execution_count": 260,
     "metadata": {},
     "output_type": "execute_result"
    }
   ],
   "source": [
    "short_df.columns"
   ]
  },
  {
   "cell_type": "code",
   "execution_count": 261,
   "metadata": {},
   "outputs": [
    {
     "data": {
      "text/plain": [
       "array([[17.07,  8.54,  7.93,  7.32,  5.49, 53.68]])"
      ]
     },
     "execution_count": 261,
     "metadata": {},
     "output_type": "execute_result"
    }
   ],
   "source": [
    "short_df.values"
   ]
  },
  {
   "cell_type": "code",
   "execution_count": null,
   "metadata": {},
   "outputs": [],
   "source": []
  }
 ],
 "metadata": {
  "kernelspec": {
   "display_name": "Python 3.11.0 64-bit",
   "language": "python",
   "name": "python3"
  },
  "language_info": {
   "codemirror_mode": {
    "name": "ipython",
    "version": 3
   },
   "file_extension": ".py",
   "mimetype": "text/x-python",
   "name": "python",
   "nbconvert_exporter": "python",
   "pygments_lexer": "ipython3",
   "version": "3.11.0"
  },
  "orig_nbformat": 4,
  "vscode": {
   "interpreter": {
    "hash": "aee8b7b246df8f9039afb4144a1f6fd8d2ca17a180786b69acc140d282b71a49"
   }
  }
 },
 "nbformat": 4,
 "nbformat_minor": 2
}
